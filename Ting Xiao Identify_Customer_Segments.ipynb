{
 "cells": [
  {
   "cell_type": "markdown",
   "metadata": {},
   "source": [
    "# Project: Identify Customer Segments\n",
    "\n",
    "In this project, you will apply unsupervised learning techniques to identify segments of the population that form the core customer base for a mail-order sales company in Germany. These segments can then be used to direct marketing campaigns towards audiences that will have the highest expected rate of returns. The data that you will use has been provided by our partners at Bertelsmann Arvato Analytics, and represents a real-life data science task.\n",
    "\n",
    "This notebook will help you complete this task by providing a framework within which you will perform your analysis steps. In each step of the project, you will see some text describing the subtask that you will perform, followed by one or more code cells for you to complete your work. **Feel free to add additional code and markdown cells as you go along so that you can explore everything in precise chunks.** The code cells provided in the base template will outline only the major tasks, and will usually not be enough to cover all of the minor tasks that comprise it.\n",
    "\n",
    "It should be noted that while there will be precise guidelines on how you should handle certain tasks in the project, there will also be places where an exact specification is not provided. **There will be times in the project where you will need to make and justify your own decisions on how to treat the data.** These are places where there may not be only one way to handle the data. In real-life tasks, there may be many valid ways to approach an analysis task. One of the most important things you can do is clearly document your approach so that other scientists can understand the decisions you've made.\n",
    "\n",
    "At the end of most sections, there will be a Markdown cell labeled **Discussion**. In these cells, you will report your findings for the completed section, as well as document the decisions that you made in your approach to each subtask. **Your project will be evaluated not just on the code used to complete the tasks outlined, but also your communication about your observations and conclusions at each stage.**"
   ]
  },
  {
   "cell_type": "code",
   "execution_count": 1,
   "metadata": {},
   "outputs": [
    {
     "data": {
      "text/plain": [
       "'\\nImport note: The classroom currently uses sklearn version 0.19.\\nIf you need to use an imputer, it is available in sklearn.preprocessing.Imputer,\\ninstead of sklearn.impute as in newer versions of sklearn.\\n'"
      ]
     },
     "execution_count": 1,
     "metadata": {},
     "output_type": "execute_result"
    }
   ],
   "source": [
    "# import libraries here; add more as necessary\n",
    "import numpy as np\n",
    "import pandas as pd\n",
    "import matplotlib.pyplot as plt\n",
    "import seaborn as sns\n",
    "import markdown\n",
    "from bs4 import BeautifulSoup\n",
    "from sklearn.preprocessing import Imputer\n",
    "from sklearn.preprocessing import StandardScaler\n",
    "from sklearn.decomposition import PCA\n",
    "import matplotlib.pyplot as plt\n",
    "from sklearn.cluster import KMeans\n",
    "from sklearn.preprocessing import Imputer\n",
    "from sklearn.preprocessing import StandardScaler\n",
    "from scipy import stats\n",
    "# magic word for producing visualizations in notebook\n",
    "%matplotlib inline\n",
    "'''\n",
    "Import note: The classroom currently uses sklearn version 0.19.\n",
    "If you need to use an imputer, it is available in sklearn.preprocessing.Imputer,\n",
    "instead of sklearn.impute as in newer versions of sklearn.\n",
    "'''"
   ]
  },
  {
   "cell_type": "markdown",
   "metadata": {},
   "source": [
    "### Step 0: Load the Data\n",
    "\n",
    "There are four files associated with this project (not including this one):\n",
    "\n",
    "- `Udacity_AZDIAS_Subset.csv`: Demographics data for the general population of Germany; 891211 persons (rows) x 85 features (columns).\n",
    "- `Udacity_CUSTOMERS_Subset.csv`: Demographics data for customers of a mail-order company; 191652 persons (rows) x 85 features (columns).\n",
    "- `Data_Dictionary.md`: Detailed information file about the features in the provided datasets.\n",
    "- `AZDIAS_Feature_Summary.csv`: Summary of feature attributes for demographics data; 85 features (rows) x 4 columns\n",
    "\n",
    "Each row of the demographics files represents a single person, but also includes information outside of individuals, including information about their household, building, and neighborhood. You will use this information to cluster the general population into groups with similar demographic properties. Then, you will see how the people in the customers dataset fit into those created clusters. The hope here is that certain clusters are over-represented in the customers data, as compared to the general population; those over-represented clusters will be assumed to be part of the core userbase. This information can then be used for further applications, such as targeting for a marketing campaign.\n",
    "\n",
    "To start off with, load in the demographics data for the general population into a pandas DataFrame, and do the same for the feature attributes summary. Note for all of the `.csv` data files in this project: they're semicolon (`;`) delimited, so you'll need an additional argument in your [`read_csv()`](https://pandas.pydata.org/pandas-docs/stable/generated/pandas.read_csv.html) call to read in the data properly. Also, considering the size of the main dataset, it may take some time for it to load completely.\n",
    "\n",
    "Once the dataset is loaded, it's recommended that you take a little bit of time just browsing the general structure of the dataset and feature summary file. You'll be getting deep into the innards of the cleaning in the first major step of the project, so gaining some general familiarity can help you get your bearings."
   ]
  },
  {
   "cell_type": "code",
   "execution_count": 2,
   "metadata": {},
   "outputs": [],
   "source": [
    "# Load in the general demographics data.\n",
    "azdias = pd.read_csv('Udacity_AZDIAS_Subset.csv',sep=';')\n",
    "# Load in the feature summary file.\n",
    "feat_info = pd.read_csv('AZDIAS_Feature_Summary.csv',sep=';')"
   ]
  },
  {
   "cell_type": "code",
   "execution_count": 3,
   "metadata": {
    "scrolled": true
   },
   "outputs": [
    {
     "name": "stdout",
     "output_type": "stream",
     "text": [
      "<class 'pandas.core.frame.DataFrame'>\n",
      "RangeIndex: 891221 entries, 0 to 891220\n",
      "Data columns (total 85 columns):\n",
      "AGER_TYP                 891221 non-null int64\n",
      "ALTERSKATEGORIE_GROB     891221 non-null int64\n",
      "ANREDE_KZ                891221 non-null int64\n",
      "CJT_GESAMTTYP            886367 non-null float64\n",
      "FINANZ_MINIMALIST        891221 non-null int64\n",
      "FINANZ_SPARER            891221 non-null int64\n",
      "FINANZ_VORSORGER         891221 non-null int64\n",
      "FINANZ_ANLEGER           891221 non-null int64\n",
      "FINANZ_UNAUFFAELLIGER    891221 non-null int64\n",
      "FINANZ_HAUSBAUER         891221 non-null int64\n",
      "FINANZTYP                891221 non-null int64\n",
      "GEBURTSJAHR              891221 non-null int64\n",
      "GFK_URLAUBERTYP          886367 non-null float64\n",
      "GREEN_AVANTGARDE         891221 non-null int64\n",
      "HEALTH_TYP               891221 non-null int64\n",
      "LP_LEBENSPHASE_FEIN      886367 non-null float64\n",
      "LP_LEBENSPHASE_GROB      886367 non-null float64\n",
      "LP_FAMILIE_FEIN          886367 non-null float64\n",
      "LP_FAMILIE_GROB          886367 non-null float64\n",
      "LP_STATUS_FEIN           886367 non-null float64\n",
      "LP_STATUS_GROB           886367 non-null float64\n",
      "NATIONALITAET_KZ         891221 non-null int64\n",
      "PRAEGENDE_JUGENDJAHRE    891221 non-null int64\n",
      "RETOURTYP_BK_S           886367 non-null float64\n",
      "SEMIO_SOZ                891221 non-null int64\n",
      "SEMIO_FAM                891221 non-null int64\n",
      "SEMIO_REL                891221 non-null int64\n",
      "SEMIO_MAT                891221 non-null int64\n",
      "SEMIO_VERT               891221 non-null int64\n",
      "SEMIO_LUST               891221 non-null int64\n",
      "SEMIO_ERL                891221 non-null int64\n",
      "SEMIO_KULT               891221 non-null int64\n",
      "SEMIO_RAT                891221 non-null int64\n",
      "SEMIO_KRIT               891221 non-null int64\n",
      "SEMIO_DOM                891221 non-null int64\n",
      "SEMIO_KAEM               891221 non-null int64\n",
      "SEMIO_PFLICHT            891221 non-null int64\n",
      "SEMIO_TRADV              891221 non-null int64\n",
      "SHOPPER_TYP              891221 non-null int64\n",
      "SOHO_KZ                  817722 non-null float64\n",
      "TITEL_KZ                 817722 non-null float64\n",
      "VERS_TYP                 891221 non-null int64\n",
      "ZABEOTYP                 891221 non-null int64\n",
      "ALTER_HH                 817722 non-null float64\n",
      "ANZ_PERSONEN             817722 non-null float64\n",
      "ANZ_TITEL                817722 non-null float64\n",
      "HH_EINKOMMEN_SCORE       872873 non-null float64\n",
      "KK_KUNDENTYP             306609 non-null float64\n",
      "W_KEIT_KIND_HH           783619 non-null float64\n",
      "WOHNDAUER_2008           817722 non-null float64\n",
      "ANZ_HAUSHALTE_AKTIV      798073 non-null float64\n",
      "ANZ_HH_TITEL             794213 non-null float64\n",
      "GEBAEUDETYP              798073 non-null float64\n",
      "KONSUMNAEHE              817252 non-null float64\n",
      "MIN_GEBAEUDEJAHR         798073 non-null float64\n",
      "OST_WEST_KZ              798073 non-null object\n",
      "WOHNLAGE                 798073 non-null float64\n",
      "CAMEO_DEUG_2015          792242 non-null object\n",
      "CAMEO_DEU_2015           792242 non-null object\n",
      "CAMEO_INTL_2015          792242 non-null object\n",
      "KBA05_ANTG1              757897 non-null float64\n",
      "KBA05_ANTG2              757897 non-null float64\n",
      "KBA05_ANTG3              757897 non-null float64\n",
      "KBA05_ANTG4              757897 non-null float64\n",
      "KBA05_BAUMAX             757897 non-null float64\n",
      "KBA05_GBZ                757897 non-null float64\n",
      "BALLRAUM                 797481 non-null float64\n",
      "EWDICHTE                 797481 non-null float64\n",
      "INNENSTADT               797481 non-null float64\n",
      "GEBAEUDETYP_RASTER       798066 non-null float64\n",
      "KKK                      770025 non-null float64\n",
      "MOBI_REGIO               757897 non-null float64\n",
      "ONLINE_AFFINITAET        886367 non-null float64\n",
      "REGIOTYP                 770025 non-null float64\n",
      "KBA13_ANZAHL_PKW         785421 non-null float64\n",
      "PLZ8_ANTG1               774706 non-null float64\n",
      "PLZ8_ANTG2               774706 non-null float64\n",
      "PLZ8_ANTG3               774706 non-null float64\n",
      "PLZ8_ANTG4               774706 non-null float64\n",
      "PLZ8_BAUMAX              774706 non-null float64\n",
      "PLZ8_HHZ                 774706 non-null float64\n",
      "PLZ8_GBZ                 774706 non-null float64\n",
      "ARBEIT                   794005 non-null float64\n",
      "ORTSGR_KLS9              794005 non-null float64\n",
      "RELAT_AB                 794005 non-null float64\n",
      "dtypes: float64(49), int64(32), object(4)\n",
      "memory usage: 578.0+ MB\n",
      "None\n",
      "   AGER_TYP  ALTERSKATEGORIE_GROB  ANREDE_KZ  CJT_GESAMTTYP  \\\n",
      "0        -1                     2          1            2.0   \n",
      "1        -1                     1          2            5.0   \n",
      "2        -1                     3          2            3.0   \n",
      "3         2                     4          2            2.0   \n",
      "4        -1                     3          1            5.0   \n",
      "\n",
      "   FINANZ_MINIMALIST  FINANZ_SPARER  FINANZ_VORSORGER  FINANZ_ANLEGER  \\\n",
      "0                  3              4                 3               5   \n",
      "1                  1              5                 2               5   \n",
      "2                  1              4                 1               2   \n",
      "3                  4              2                 5               2   \n",
      "4                  4              3                 4               1   \n",
      "\n",
      "   FINANZ_UNAUFFAELLIGER  FINANZ_HAUSBAUER    ...     PLZ8_ANTG1  PLZ8_ANTG2  \\\n",
      "0                      5                 3    ...            NaN         NaN   \n",
      "1                      4                 5    ...            2.0         3.0   \n",
      "2                      3                 5    ...            3.0         3.0   \n",
      "3                      1                 2    ...            2.0         2.0   \n",
      "4                      3                 2    ...            2.0         4.0   \n",
      "\n",
      "   PLZ8_ANTG3  PLZ8_ANTG4  PLZ8_BAUMAX  PLZ8_HHZ  PLZ8_GBZ  ARBEIT  \\\n",
      "0         NaN         NaN          NaN       NaN       NaN     NaN   \n",
      "1         2.0         1.0          1.0       5.0       4.0     3.0   \n",
      "2         1.0         0.0          1.0       4.0       4.0     3.0   \n",
      "3         2.0         0.0          1.0       3.0       4.0     2.0   \n",
      "4         2.0         1.0          2.0       3.0       3.0     4.0   \n",
      "\n",
      "   ORTSGR_KLS9  RELAT_AB  \n",
      "0          NaN       NaN  \n",
      "1          5.0       4.0  \n",
      "2          5.0       2.0  \n",
      "3          3.0       3.0  \n",
      "4          6.0       5.0  \n",
      "\n",
      "[5 rows x 85 columns]\n",
      "<class 'pandas.core.frame.DataFrame'>\n",
      "RangeIndex: 85 entries, 0 to 84\n",
      "Data columns (total 4 columns):\n",
      "attribute             85 non-null object\n",
      "information_level     85 non-null object\n",
      "type                  85 non-null object\n",
      "missing_or_unknown    85 non-null object\n",
      "dtypes: object(4)\n",
      "memory usage: 2.7+ KB\n",
      "None\n",
      "[-1]        26\n",
      "[-1,9]      17\n",
      "[-1,0]      16\n",
      "[0]         12\n",
      "[]          10\n",
      "[-1,0,9]     1\n",
      "[XX]         1\n",
      "[-1,XX]      1\n",
      "[-1,X]       1\n",
      "Name: missing_or_unknown, dtype: int64\n"
     ]
    }
   ],
   "source": [
    "# Check the structure of the data after it's loaded (e.g. print the number of\n",
    "# rows and columns, print the first few rows)\n",
    "print (azdias.info())\n",
    "print (azdias.head())\n",
    "print (feat_info.info())\n",
    "# check the pattern of missing data:\n",
    "print (feat_info['missing_or_unknown'].value_counts())\n",
    "# groups: \n",
    "# group1: [-1]        26\n",
    "# group2: [-1,9]      17\n",
    "# group3: [-1,0]      16\n",
    "# group4: [0]         12\n",
    "# group5: [-1,0,9]     1\n",
    "# group6: [-1,X]       1\n",
    "# group7: [-1,XX]      1\n",
    "# group8: [XX]         1"
   ]
  },
  {
   "cell_type": "markdown",
   "metadata": {},
   "source": [
    "### **Tip**: Add additional cells to keep everything in reasonably-sized chunks! Keyboard shortcut `esc --> a` (press escape to enter command mode, then press the 'A' key) adds a new cell before the active cell, and `esc --> b` adds a new cell after the active cell. If you need to convert an active cell to a markdown cell, use `esc --> m` and to convert to a code cell, use `esc --> y`. \n",
    "\n",
    "## Step 1: Preprocessing\n",
    "\n",
    "### Step 1.1: Assess Missing Data\n",
    "\n",
    "The feature summary file contains a summary of properties for each demographics data column. You will use this file to help you make cleaning decisions during this stage of the project. First of all, you should assess the demographics data in terms of missing data. Pay attention to the following points as you perform your analysis, and take notes on what you observe. Make sure that you fill in the **Discussion** cell with your findings and decisions at the end of each step that has one!\n",
    "\n",
    "#### Step 1.1.1: Convert Missing Value Codes to NaNs\n",
    "The fourth column of the feature attributes summary (loaded in above as `feat_info`) documents the codes from the data dictionary that indicate missing or unknown data. While the file encodes this as a list (e.g. `[-1,0]`), this will get read in as a string object. You'll need to do a little bit of parsing to make use of it to identify and clean the data. Convert data that matches a 'missing' or 'unknown' value code into a numpy NaN value. You might want to see how much data takes on a 'missing' or 'unknown' code, and how much data is naturally missing, as a point of interest.\n",
    "\n",
    "**As one more reminder, you are encouraged to add additional cells to break up your analysis into manageable chunks.**"
   ]
  },
  {
   "cell_type": "code",
   "execution_count": 4,
   "metadata": {},
   "outputs": [
    {
     "name": "stdout",
     "output_type": "stream",
     "text": [
      "There are in total 8373929 naturally missing values.\n"
     ]
    }
   ],
   "source": [
    "#Identify missing or unknown data values and convert them to NaNs.\n",
    "#Divide into different groups according to the pattern of missing or unknown described in feat_into file. \n",
    "group_1 = feat_info[feat_info['missing_or_unknown']=='[-1]'].index\n",
    "group_2 = feat_info[feat_info['missing_or_unknown']=='[-1,9]'].index\n",
    "group_3 = feat_info[feat_info['missing_or_unknown']=='[-1,0]'].index\n",
    "group_4 = feat_info[feat_info['missing_or_unknown']=='[0]'].index\n",
    "group_5 = feat_info[feat_info['missing_or_unknown']=='[-1,0,9]'].index\n",
    "group_6 = feat_info[feat_info['missing_or_unknown']=='[-1,X]'].index\n",
    "group_7 = feat_info[feat_info['missing_or_unknown']=='[-1,XX]'].index\n",
    "group_8 = feat_info[feat_info['missing_or_unknown']=='[XX]'].index\n",
    "#Replace with NaN using the groups and the missing or unknown information from feat_info:\n",
    "for indx in group_1:\n",
    "    azdias[feat_info.iloc[indx]['attribute']].replace([-1], np.nan,inplace=True)\n",
    "for indx in group_2:\n",
    "    azdias[feat_info.iloc[indx]['attribute']].replace([-1,9], np.nan,inplace=True)\n",
    "for indx in group_3:\n",
    "    azdias[feat_info.iloc[indx]['attribute']].replace([-1,0], np.nan,inplace=True)\n",
    "for indx in group_4:\n",
    "    azdias[feat_info.iloc[indx]['attribute']].replace([0], np.nan,inplace=True)\n",
    "for indx in group_5:\n",
    "    azdias[feat_info.iloc[indx]['attribute']].replace([-1,0,9], np.nan,inplace=True)\n",
    "for indx in group_6:\n",
    "    azdias[feat_info.iloc[indx]['attribute']].replace([-1,'X'], np.nan,inplace=True)\n",
    "for indx in group_7:\n",
    "    azdias[feat_info.iloc[indx]['attribute']].replace([-1,'XX'], np.nan,inplace=True)\n",
    "for indx in group_8:\n",
    "    azdias[feat_info.iloc[indx]['attribute']].replace(['XX'], np.nan,inplace=True)\n",
    "# count how many missing values:\n",
    "print (\"There are in total\", azdias.isnull().sum().sum(), \"naturally missing values.\")"
   ]
  },
  {
   "cell_type": "markdown",
   "metadata": {},
   "source": [
    "#### Step 1.1.2: Assess Missing Data in Each Column\n",
    "\n",
    "How much missing data is present in each column? There are a few columns that are outliers in terms of the proportion of values that are missing. You will want to use matplotlib's [`hist()`](https://matplotlib.org/api/_as_gen/matplotlib.pyplot.hist.html) function to visualize the distribution of missing value counts to find these columns. Identify and document these columns. While some of these columns might have justifications for keeping or re-encoding the data, for this project you should just remove them from the dataframe. (Feel free to make remarks about these outlier columns in the discussion, however!)\n",
    "\n",
    "For the remaining features, are there any patterns in which columns have, or share, missing data?"
   ]
  },
  {
   "cell_type": "code",
   "execution_count": 5,
   "metadata": {},
   "outputs": [
    {
     "name": "stdout",
     "output_type": "stream",
     "text": [
      "ZABEOTYP                      0\n",
      "SEMIO_TRADV                   0\n",
      "SEMIO_PFLICHT                 0\n",
      "SEMIO_KAEM                    0\n",
      "SEMIO_DOM                     0\n",
      "SEMIO_KRIT                    0\n",
      "SEMIO_RAT                     0\n",
      "SEMIO_KULT                    0\n",
      "SEMIO_ERL                     0\n",
      "SEMIO_LUST                    0\n",
      "SEMIO_VERT                    0\n",
      "SEMIO_MAT                     0\n",
      "SEMIO_REL                     0\n",
      "SEMIO_SOZ                     0\n",
      "SEMIO_FAM                     0\n",
      "FINANZ_VORSORGER              0\n",
      "ANREDE_KZ                     0\n",
      "FINANZ_MINIMALIST             0\n",
      "FINANZ_SPARER                 0\n",
      "FINANZ_ANLEGER                0\n",
      "FINANZ_UNAUFFAELLIGER         0\n",
      "FINANZ_HAUSBAUER              0\n",
      "GREEN_AVANTGARDE              0\n",
      "FINANZTYP                     0\n",
      "ALTERSKATEGORIE_GROB       2881\n",
      "GFK_URLAUBERTYP            4854\n",
      "LP_STATUS_GROB             4854\n",
      "LP_STATUS_FEIN             4854\n",
      "ONLINE_AFFINITAET          4854\n",
      "RETOURTYP_BK_S             4854\n",
      "CJT_GESAMTTYP              4854\n",
      "HH_EINKOMMEN_SCORE        18348\n",
      "WOHNDAUER_2008            73499\n",
      "ANZ_TITEL                 73499\n",
      "SOHO_KZ                   73499\n",
      "ANZ_PERSONEN              73499\n",
      "KONSUMNAEHE               73969\n",
      "LP_FAMILIE_GROB           77792\n",
      "LP_FAMILIE_FEIN           77792\n",
      "OST_WEST_KZ               93148\n",
      "WOHNLAGE                  93148\n",
      "GEBAEUDETYP               93148\n",
      "MIN_GEBAEUDEJAHR          93148\n",
      "GEBAEUDETYP_RASTER        93155\n",
      "BALLRAUM                  93740\n",
      "EWDICHTE                  93740\n",
      "INNENSTADT                93740\n",
      "LP_LEBENSPHASE_GROB       94572\n",
      "ANZ_HH_TITEL              97008\n",
      "ORTSGR_KLS9               97274\n",
      "ARBEIT                    97375\n",
      "RELAT_AB                  97375\n",
      "LP_LEBENSPHASE_FEIN       97632\n",
      "CAMEO_DEUG_2015           99352\n",
      "CAMEO_DEU_2015            99352\n",
      "CAMEO_INTL_2015           99352\n",
      "ANZ_HAUSHALTE_AKTIV       99611\n",
      "KBA13_ANZAHL_PKW         105800\n",
      "PRAEGENDE_JUGENDJAHRE    108164\n",
      "NATIONALITAET_KZ         108315\n",
      "HEALTH_TYP               111196\n",
      "VERS_TYP                 111196\n",
      "SHOPPER_TYP              111196\n",
      "PLZ8_ANTG2               116515\n",
      "PLZ8_ANTG3               116515\n",
      "PLZ8_ANTG1               116515\n",
      "PLZ8_ANTG4               116515\n",
      "PLZ8_BAUMAX              116515\n",
      "PLZ8_HHZ                 116515\n",
      "PLZ8_GBZ                 116515\n",
      "KBA05_ANTG3              133324\n",
      "KBA05_ANTG2              133324\n",
      "KBA05_ANTG1              133324\n",
      "MOBI_REGIO               133324\n",
      "KBA05_GBZ                133324\n",
      "KBA05_ANTG4              133324\n",
      "W_KEIT_KIND_HH           147988\n",
      "KKK                      158064\n",
      "REGIOTYP                 158064\n",
      "ALTER_HH                 310267\n",
      "GEBURTSJAHR              392318\n",
      "KBA05_BAUMAX             476524\n",
      "KK_KUNDENTYP             584612\n",
      "AGER_TYP                 685843\n",
      "TITEL_KZ                 889061\n",
      "dtype: int64\n"
     ]
    }
   ],
   "source": [
    "# Perform an assessment of how much missing data there is in each column of the dataset.\n",
    "pd.set_option(\"display.max_rows\", 101)\n",
    "print(azdias.isnull().sum().sort_values())"
   ]
  },
  {
   "cell_type": "code",
   "execution_count": 6,
   "metadata": {},
   "outputs": [
    {
     "data": {
      "image/png": "[encoded data removed]",
      "text/plain": [
       "<matplotlib.figure.Figure at 0x7f9028c4b0f0>"
      ]
     },
     "metadata": {
      "needs_background": "light"
     },
     "output_type": "display_data"
    }
   ],
   "source": [
    "# Investigate patterns in the amount of missing data in each column.\n",
    "plt.hist(np.array(azdias.isnull().sum()),bins=50)\n",
    "plt.minorticks_on()\n",
    "plt.grid()"
   ]
  },
  {
   "cell_type": "code",
   "execution_count": 7,
   "metadata": {},
   "outputs": [],
   "source": [
    "# Remove the outlier columns from the dataset. (You'll perform other data\n",
    "# engineering tasks such as re-encoding and imputation later.)\n",
    "# Columns with 200,000 missing values are redeemed as outliers; there're 6 of them. \n",
    "# The new dataframe is named as azdias_rm_outlier\n",
    "aa = azdias.isnull().sum()[azdias.isnull().sum()<200000]\n",
    "aa = aa.to_frame()\n",
    "azdias_rm_outlier = azdias[aa.index.values]"
   ]
  },
  {
   "cell_type": "markdown",
   "metadata": {},
   "source": [
    "#### Discussion 1.1.2: Assess Missing Data in Each Column\n",
    "In the total 85 columns, there're 24 columns without missing values; 8 columns with missing values between 0.01% and 5% (1-44561 missing values); 7 columns with missing values between 5.01% and 10%  (44562-89122 missing values); 39 columns with missing values between 10.01% and 15% (89123-133683); 3 columns with missing values between 15.01% and 20%  (133684-178244) missing values);6 columns with missing values over 20% (over 178244). Telling from the histogram, the 6 columns over 20% and also over 200000 were considered to be outliers and were removed from the dataset. They're: {ALTER_HH:310267,\n",
    "GEBURTSJAHR:392318, KBA05_BAUMAX:476524, KK_KUNDENTYP:584612; AGER_TYP:685843; TITEL_KZ:889061}"
   ]
  },
  {
   "cell_type": "markdown",
   "metadata": {},
   "source": [
    "#### Step 1.1.3: Assess Missing Data in Each Row\n",
    "\n",
    "Now, you'll perform a similar assessment for the rows of the dataset. How much data is missing in each row? As with the columns, you should see some groups of points that have a very different numbers of missing values. Divide the data into two subsets: one for data points that are above some threshold for missing values, and a second subset for points below that threshold.\n",
    "\n",
    "In order to know what to do with the outlier rows, we should see if the distribution of data values on columns that are not missing data (or are missing very little data) are similar or different between the two groups. Select at least five of these columns and compare the distribution of values.\n",
    "- You can use seaborn's [`countplot()`](https://seaborn.pydata.org/generated/seaborn.countplot.html) function to create a bar chart of code frequencies and matplotlib's [`subplot()`](https://matplotlib.org/api/_as_gen/matplotlib.pyplot.subplot.html) function to put bar charts for the two subplots side by side.\n",
    "- To reduce repeated code, you might want to write a function that can perform this comparison, taking as one of its arguments a column to be compared.\n",
    "\n",
    "Depending on what you observe in your comparison, this will have implications on how you approach your conclusions later in the analysis. If the distributions of non-missing features look similar between the data with many missing values and the data with few or no missing values, then we could argue that simply dropping those points from the analysis won't present a major issue. On the other hand, if the data with many missing values looks very different from the data with few or no missing values, then we should make a note on those data as special. We'll revisit these data later on. **Either way, you should continue your analysis for now using just the subset of the data with few or no missing values.**"
   ]
  },
  {
   "cell_type": "code",
   "execution_count": 8,
   "metadata": {},
   "outputs": [
    {
     "data": {
      "text/plain": [
       "([<matplotlib.axis.XTick at 0x7f9028c72198>,\n",
       "  <matplotlib.axis.XTick at 0x7f9026b61710>,\n",
       "  <matplotlib.axis.XTick at 0x7f9026b3ec18>,\n",
       "  <matplotlib.axis.XTick at 0x7f9026ac72e8>,\n",
       "  <matplotlib.axis.XTick at 0x7f9026ac7940>,\n",
       "  <matplotlib.axis.XTick at 0x7f9026ac7f98>,\n",
       "  <matplotlib.axis.XTick at 0x7f9026acc630>,\n",
       "  <matplotlib.axis.XTick at 0x7f9026accc88>,\n",
       "  <matplotlib.axis.XTick at 0x7f9026ad4358>,\n",
       "  <matplotlib.axis.XTick at 0x7f9026ad49e8>,\n",
       "  <matplotlib.axis.XTick at 0x7f9026a590b8>,\n",
       "  <matplotlib.axis.XTick at 0x7f9026a59748>],\n",
       " <a list of 12 Text xticklabel objects>)"
      ]
     },
     "execution_count": 8,
     "metadata": {},
     "output_type": "execute_result"
    },
    {
     "data": {
      "image/png": "[encoded data removed]",
      "text/plain": [
       "<matplotlib.figure.Figure at 0x7f9026b20588>"
      ]
     },
     "metadata": {
      "needs_background": "light"
     },
     "output_type": "display_data"
    }
   ],
   "source": [
    "# How much data is missing in each row of the dataset?\n",
    "#print(azdias.isnull().sum()[azdias.isnull().sum()>0])\n",
    "#azdias.apply(lambda x: x.count(), axis=1)\n",
    "hh=plt.hist(np.array(azdias_rm_outlier.isnull().sum(axis=1)),bins=10)\n",
    "plt.xticks(np.arange(0, 60, 5))"
   ]
  },
  {
   "cell_type": "code",
   "execution_count": 9,
   "metadata": {},
   "outputs": [],
   "source": [
    "# Write code to divide the data into two subsets based on the number of missing\n",
    "# values in each row.\n",
    "# Based on the percentage missing, subset 1: rows with more than 17 missing variables; subset 2: under 17 variables;\n",
    "sum_over_17 = azdias_rm_outlier.isnull().sum(axis=1)[azdias_rm_outlier.isnull().sum(axis=1)>17]\n",
    "sum_over_17 = sum_over_17.to_frame()\n",
    "azdias_subset_1 = azdias_rm_outlier.iloc[sum_over_17.index.values]\n",
    "sum_under_17 = azdias_rm_outlier.isnull().sum(axis=1)[azdias_rm_outlier.isnull().sum(axis=1)<=17]\n",
    "sum_under_17 = sum_under_17.to_frame()\n",
    "azdias_subset_2 = azdias_rm_outlier.iloc[sum_under_17.index.values]"
   ]
  },
  {
   "cell_type": "code",
   "execution_count": 10,
   "metadata": {},
   "outputs": [
    {
     "name": "stderr",
     "output_type": "stream",
     "text": [
      "/opt/conda/lib/python3.6/site-packages/matplotlib/figure.py:418: UserWarning: matplotlib is currently using a non-GUI backend, so cannot show the figure\n",
      "  \"matplotlib is currently using a non-GUI backend, \"\n",
      "/opt/conda/lib/python3.6/site-packages/matplotlib/pyplot.py:523: RuntimeWarning: More than 20 figures have been opened. Figures created through the pyplot interface (`matplotlib.pyplot.figure`) are retained until explicitly closed and may consume too much memory. (To control this warning, see the rcParam `figure.max_open_warning`).\n",
      "  max_open_warning, RuntimeWarning)\n"
     ]
    },
    {
     "data": {
      "image/png": "[encoded data removed]",
      "text/plain": [
       "<matplotlib.figure.Figure at 0x7f9026acc278>"
      ]
     },
     "metadata": {
      "needs_background": "light"
     },
     "output_type": "display_data"
    },
    {
     "data": {
      "image/png": "[encoded data removed]",
      "text/plain": [
       "<matplotlib.figure.Figure at 0x7f90251e4be0>"
      ]
     },
     "metadata": {
      "needs_background": "light"
     },
     "output_type": "display_data"
    },
    {
     "data": {
      "image/png": "[encoded data removed]",
      "text/plain": [
       "<matplotlib.figure.Figure at 0x7f902517c240>"
      ]
     },
     "metadata": {
      "needs_background": "light"
     },
     "output_type": "display_data"
    },
    {
     "data": {
      "image/png": "[encoded data removed]",
      "text/plain": [
       "<matplotlib.figure.Figure at 0x7f902506cd30>"
      ]
     },
     "metadata": {
      "needs_background": "light"
     },
     "output_type": "display_data"
    },
    {
     "data": {
      "image/png": "[encoded data removed]",
      "text/plain": [
       "<matplotlib.figure.Figure at 0x7f9024f92be0>"
      ]
     },
     "metadata": {
      "needs_background": "light"
     },
     "output_type": "display_data"
    },
    {
     "data": {
      "image/png": "[encoded data removed]",
      "text/plain": [
       "<matplotlib.figure.Figure at 0x7f9024f15b00>"
      ]
     },
     "metadata": {
      "needs_background": "light"
     },
     "output_type": "display_data"
    },
    {
     "data": {
      "image/png": "[encoded data removed]",
      "text/plain": [
       "<matplotlib.figure.Figure at 0x7f9024ea6978>"
      ]
     },
     "metadata": {
      "needs_background": "light"
     },
     "output_type": "display_data"
    },
    {
     "data": {
      "image/png": "[encoded data removed]",
      "text/plain": [
       "<matplotlib.figure.Figure at 0x7f9024e3eef0>"
      ]
     },
     "metadata": {
      "needs_background": "light"
     },
     "output_type": "display_data"
    },
    {
     "data": {
      "image/png": "[encoded data removed]",
      "text/plain": [
       "<matplotlib.figure.Figure at 0x7f9024d678d0>"
      ]
     },
     "metadata": {
      "needs_background": "light"
     },
     "output_type": "display_data"
    },
    {
     "data": {
      "image/png": "[encoded data removed]",
      "text/plain": [
       "<matplotlib.figure.Figure at 0x7f9025021a20>"
      ]
     },
     "metadata": {
      "needs_background": "light"
     },
     "output_type": "display_data"
    },
    {
     "data": {
      "image/png": "[encoded data removed]",
      "text/plain": [
       "<matplotlib.figure.Figure at 0x7f9026b61b70>"
      ]
     },
     "metadata": {
      "needs_background": "light"
     },
     "output_type": "display_data"
    },
    {
     "data": {
      "image/png": "[encoded data removed]",
      "text/plain": [
       "<matplotlib.figure.Figure at 0x7f9026adec18>"
      ]
     },
     "metadata": {
      "needs_background": "light"
     },
     "output_type": "display_data"
    },
    {
     "data": {
      "image/png": "[encoded data removed]",
      "text/plain": [
       "<matplotlib.figure.Figure at 0x7f9024c885c0>"
      ]
     },
     "metadata": {
      "needs_background": "light"
     },
     "output_type": "display_data"
    },
    {
     "data": {
      "image/png": "[encoded data removed]",
      "text/plain": [
       "<matplotlib.figure.Figure at 0x7f9024bad128>"
      ]
     },
     "metadata": {
      "needs_background": "light"
     },
     "output_type": "display_data"
    },
    {
     "data": {
      "image/png": "[encoded data removed]",
      "text/plain": [
       "<matplotlib.figure.Figure at 0x7f9024b47a20>"
      ]
     },
     "metadata": {
      "needs_background": "light"
     },
     "output_type": "display_data"
    },
    {
     "data": {
      "image/png": "[encoded data removed]",
      "text/plain": [
       "<matplotlib.figure.Figure at 0x7f9024a70780>"
      ]
     },
     "metadata": {
      "needs_background": "light"
     },
     "output_type": "display_data"
    },
    {
     "data": {
      "image/png": "[encoded data removed]",
      "text/plain": [
       "<matplotlib.figure.Figure at 0x7f9024a0af98>"
      ]
     },
     "metadata": {
      "needs_background": "light"
     },
     "output_type": "display_data"
    },
    {
     "data": {
      "image/png": "[encoded data removed]",
      "text/plain": [
       "<matplotlib.figure.Figure at 0x7f902492cda0>"
      ]
     },
     "metadata": {
      "needs_background": "light"
     },
     "output_type": "display_data"
    },
    {
     "data": {
      "image/png": "[encoded data removed]",
      "text/plain": [
       "<matplotlib.figure.Figure at 0x7f902485c898>"
      ]
     },
     "metadata": {
      "needs_background": "light"
     },
     "output_type": "display_data"
    },
    {
     "data": {
      "image/png": "[encoded data removed]",
      "text/plain": [
       "<matplotlib.figure.Figure at 0x7f9024804160>"
      ]
     },
     "metadata": {
      "needs_background": "light"
     },
     "output_type": "display_data"
    },
    {
     "data": {
      "image/png": "[encoded data removed]",
      "text/plain": [
       "<matplotlib.figure.Figure at 0x7f902471f0f0>"
      ]
     },
     "metadata": {
      "needs_background": "light"
     },
     "output_type": "display_data"
    },
    {
     "data": {
      "image/png": "[encoded data removed]",
      "text/plain": [
       "<matplotlib.figure.Figure at 0x7f90246c9978>"
      ]
     },
     "metadata": {
      "needs_background": "light"
     },
     "output_type": "display_data"
    },
    {
     "data": {
      "image/png": "[encoded data removed]",
      "text/plain": [
       "<matplotlib.figure.Figure at 0x7f90245ec940>"
      ]
     },
     "metadata": {
      "needs_background": "light"
     },
     "output_type": "display_data"
    },
    {
     "data": {
      "image/png": "[encoded data removed]",
      "text/plain": [
       "<matplotlib.figure.Figure at 0x7f902458f828>"
      ]
     },
     "metadata": {
      "needs_background": "light"
     },
     "output_type": "display_data"
    }
   ],
   "source": [
    "# Compare the distribution of values for at least five columns where there are\n",
    "# no or few missing values, between the two subsets.\n",
    "# All the 24 columns are included:\n",
    "a_test = azdias_rm_outlier.dropna(axis='columns')\n",
    "ls = list(a_test.columns.values)\n",
    "\n",
    "\n",
    "#figure, axs = plt.subplots(nrows=24, ncols=2, figsize = (15,20))\n",
    "for index in ls:\n",
    "    fig, ax =plt.subplots(1,2,figsize = (15,5))\n",
    "    sns.countplot(data=azdias_subset_1,x=index, ax=ax[0])\n",
    "    sns.countplot(data=azdias_subset_2,x=index,ax=ax[1])\n",
    "    fig.show()"
   ]
  },
  {
   "cell_type": "markdown",
   "metadata": {},
   "source": [
    "#### Discussion 1.1.3: Assess Missing Data in Each Row\n",
    "\n",
    "(Double-click this cell and replace this text with your own text, reporting your observations regarding missing data in rows. Are the data with lots of missing values are qualitatively different from data with few or no missing values?)\n",
    "Answer: \n",
    "The data with lots of missing values are qualitatively different from data with few or no missing values.\n"
   ]
  },
  {
   "cell_type": "markdown",
   "metadata": {},
   "source": [
    "\n",
    "\n",
    "\n",
    "### Step 1.2: Select and Re-Encode Features\n",
    "\n",
    "Checking for missing data isn't the only way in which you can prepare a dataset for analysis. Since the unsupervised learning techniques to be used will only work on data that is encoded numerically, you need to make a few encoding changes or additional assumptions to be able to make progress. In addition, while almost all of the values in the dataset are encoded using numbers, not all of them represent numeric values. Check the third column of the feature summary (`feat_info`) for a summary of types of measurement.\n",
    "- For numeric and interval data, these features can be kept without changes.\n",
    "- Most of the variables in the dataset are ordinal in nature. While ordinal values may technically be non-linear in spacing, make the simplifying assumption that the ordinal variables can be treated as being interval in nature (that is, kept without any changes).\n",
    "- Special handling may be necessary for the remaining two variable types: categorical, and 'mixed'.\n",
    "\n",
    "In the first two parts of this sub-step, you will perform an investigation of the categorical and mixed-type features and make a decision on each of them, whether you will keep, drop, or re-encode each. Then, in the last part, you will create a new data frame with only the selected and engineered columns.\n",
    "\n",
    "Data wrangling is often the trickiest part of the data analysis process, and there's a lot of it to be done here. But stick with it: once you're done with this step, you'll be ready to get to the machine learning parts of the project!"
   ]
  },
  {
   "cell_type": "code",
   "execution_count": 11,
   "metadata": {},
   "outputs": [
    {
     "data": {
      "text/plain": [
       "ordinal        49\n",
       "categorical    21\n",
       "numeric         7\n",
       "mixed           7\n",
       "interval        1\n",
       "Name: type, dtype: int64"
      ]
     },
     "execution_count": 11,
     "metadata": {},
     "output_type": "execute_result"
    }
   ],
   "source": [
    "# How many features are there of each data type?\n",
    "feat_info['type'].value_counts()\n",
    "# For the 6 columns removed, what are their data type?\n",
    "# ALTER_HH                 310267 interval\n",
    "# GEBURTSJAHR              392318 numeric\n",
    "# KBA05_BAUMAX             476524 mixed\n",
    "# KK_KUNDENTYP             584612 categorical\n",
    "# AGER_TYP                 685843 categorical\n",
    "# TITEL_KZ                 889061 categorical"
   ]
  },
  {
   "cell_type": "markdown",
   "metadata": {},
   "source": [
    "##### Step 1.2.1: Re-Encode Categorical Features\n",
    "\n",
    "For categorical data, you would ordinarily need to encode the levels as dummy variables. Depending on the number of categories, perform one of the following:\n",
    "- For binary (two-level) categoricals that take numeric values, you can keep them without needing to do anything.\n",
    "- There is one binary variable that takes on non-numeric values. For this one, you need to re-encode the values as numbers or create a dummy variable.\n",
    "- For multi-level categoricals (three or more values), you can choose to encode the values using multiple dummy variables (e.g. via [OneHotEncoder](http://scikit-learn.org/stable/modules/generated/sklearn.preprocessing.OneHotEncoder.html)), or (to keep things straightforward) just drop them from the analysis. As always, document your choices in the Discussion section."
   ]
  },
  {
   "cell_type": "code",
   "execution_count": 12,
   "metadata": {},
   "outputs": [],
   "source": [
    "# Assess categorical variables: which are binary, which are multi-level, and which one needs to be re-encoded?\n",
    "# 16 categorical variables have more than 2 levels, 5 categoricals have 2 levels.\n",
    "# These 5 categoricals are: ANREDE_KZ, GREEN_AVANTGARDE,SOHO_KZ,VERS_TYP,OST_WEST_KZ. \n",
    "# Among these 5, OST_WEST_KZ has non-numeric values;\n",
    "# keep only levels larger than 2 (exclude nan) and one with non-numeric values; make a list of values:\n",
    "list_for_dummies = []\n",
    "# if values are non-numeric: keep. Otherwise, do not include.\n",
    "for i in feat_info['attribute'][feat_info['type']==\"categorical\"].index:\n",
    "    if azdias.iloc[:,i].nunique()>=3:\n",
    "        list_for_dummies.append(feat_info.iloc[i]['attribute'])\n",
    "    elif azdias.iloc[:,i].nunique()==2 and azdias.iloc[:,i].unique().dtype=='O':\n",
    "        list_for_dummies.append(feat_info.iloc[i]['attribute'])"
   ]
  },
  {
   "cell_type": "code",
   "execution_count": 13,
   "metadata": {},
   "outputs": [
    {
     "name": "stdout",
     "output_type": "stream",
     "text": [
      "for AGER_TYP :  [ nan   2.   3.   1.] and there are 4 levels.\n",
      "for ANREDE_KZ :  [1 2] and there are 2 levels.\n",
      "for CJT_GESAMTTYP :  [  2.   5.   3.   4.   1.   6.  nan] and there are 7 levels.\n",
      "for FINANZTYP :  [4 1 6 5 2 3] and there are 6 levels.\n",
      "for GFK_URLAUBERTYP :  [ 10.   1.   5.  12.   9.   3.   8.  11.   4.   2.   7.   6.  nan] and there are 13 levels.\n",
      "for GREEN_AVANTGARDE :  [0 1] and there are 2 levels.\n",
      "for LP_FAMILIE_FEIN :  [  2.   5.   1.  nan  10.   7.  11.   3.   8.   4.   6.   9.] and there are 12 levels.\n",
      "for LP_FAMILIE_GROB :  [  2.   3.   1.  nan   5.   4.] and there are 6 levels.\n",
      "for LP_STATUS_FEIN :  [  1.   2.   3.   9.   4.  10.   5.   8.   6.   7.  nan] and there are 11 levels.\n",
      "for LP_STATUS_GROB :  [  1.   2.   4.   5.   3.  nan] and there are 6 levels.\n",
      "for NATIONALITAET_KZ :  [ nan   1.   3.   2.] and there are 4 levels.\n",
      "for SHOPPER_TYP :  [ nan   3.   2.   1.   0.] and there are 5 levels.\n",
      "for SOHO_KZ :  [ nan   1.   0.] and there are 3 levels.\n",
      "for TITEL_KZ :  [ nan   4.   1.   3.   5.   2.] and there are 6 levels.\n",
      "for VERS_TYP :  [ nan   2.   1.] and there are 3 levels.\n",
      "for ZABEOTYP :  [3 5 4 1 6 2] and there are 6 levels.\n",
      "for KK_KUNDENTYP :  [ nan   1.   3.   6.   4.   2.   5.] and there are 7 levels.\n",
      "for GEBAEUDETYP :  [ nan   8.   1.   3.   2.   6.   4.   5.] and there are 8 levels.\n",
      "for OST_WEST_KZ :  [nan 'W' 'O'] and there are 3 levels.\n",
      "for CAMEO_DEUG_2015 :  [nan '8' '4' '2' '6' '1' '9' '5' '7' '3'] and there are 10 levels.\n",
      "for CAMEO_DEU_2015 :  [nan '8A' '4C' '2A' '6B' '8C' '4A' '2D' '1A' '1E' '9D' '5C' '8B' '7A' '5D'\n",
      " '9E' '9B' '1B' '3D' '4E' '4B' '3C' '5A' '7B' '9A' '6D' '6E' '2C' '7C' '9C'\n",
      " '7D' '5E' '1D' '8D' '6C' '6A' '5B' '4D' '3A' '2B' '7E' '3B' '6F' '5F' '1C'] and there are 45 levels.\n"
     ]
    }
   ],
   "source": [
    "for i in feat_info['attribute'][feat_info['type']==\"categorical\"].index:\n",
    "    print(\"for\", feat_info.iloc[i]['attribute'],\": \", azdias.iloc[:,i].unique(),\"and there are\",\n",
    "          len(azdias.iloc[:,i].unique()),\"levels.\")"
   ]
  },
  {
   "cell_type": "code",
   "execution_count": 14,
   "metadata": {},
   "outputs": [
    {
     "name": "stderr",
     "output_type": "stream",
     "text": [
      "/opt/conda/lib/python3.6/site-packages/pandas/core/frame.py:3697: SettingWithCopyWarning: \n",
      "A value is trying to be set on a copy of a slice from a DataFrame\n",
      "\n",
      "See the caveats in the documentation: http://pandas.pydata.org/pandas-docs/stable/indexing.html#indexing-view-versus-copy\n",
      "  errors=errors)\n"
     ]
    }
   ],
   "source": [
    "# Re-encode categorical variable(s) to be kept in the analysis.\n",
    "# CAMEO_DEU_2015 will be dropped as making 44 dummy variables is redundant and not necessary; OST_WEST_KZ will be assigned \n",
    "# to 0 and 1, now the dataset is reduced to 78 columns (85-6-1);\n",
    "azdias_rm_outlier.drop(['CAMEO_DEU_2015'],axis=1,inplace=True)"
   ]
  },
  {
   "cell_type": "code",
   "execution_count": 15,
   "metadata": {},
   "outputs": [
    {
     "data": {
      "text/plain": [
       "86"
      ]
     },
     "execution_count": 15,
     "metadata": {},
     "output_type": "execute_result"
    }
   ],
   "source": [
    "# replace W and O in OST_WEST_KZ\n",
    "azdias_rm_outlier = azdias_rm_outlier.replace({'OST_WEST_KZ': {'W': 0, 'O':1}})\n",
    "# remove from list for dummies the four columns that are no longer in azdias_rm_outlier\n",
    "ls = ['CAMEO_DEU_2015','KK_KUNDENTYP','AGER_TYP','TITEL_KZ']\n",
    "for indx in ls:\n",
    "    list_for_dummies.remove(indx)\n",
    "azdias_rm_outlier[list_for_dummies].nunique().sum() "
   ]
  },
  {
   "cell_type": "code",
   "execution_count": 16,
   "metadata": {},
   "outputs": [],
   "source": [
    "# One-hot-encoder for the multi level categorical variables except CAMEO_DEU_2015, KK_KUNDENTYP,AGER_TYP and TITEL_KZ           \n",
    "# 78 columns - 13 columns in list_for_dummies + 86 levels of the 13 columns+ 13 NAN columns for \n",
    "# the 13 dummies:164 columns for the new dataset\n",
    "azdias_rm_outlier_w_dummies = pd.get_dummies(azdias_rm_outlier,columns=list_for_dummies,dummy_na=True)"
   ]
  },
  {
   "cell_type": "code",
   "execution_count": 17,
   "metadata": {
    "scrolled": true
   },
   "outputs": [
    {
     "data": {
      "text/plain": [
       "(891221, 164)"
      ]
     },
     "execution_count": 17,
     "metadata": {},
     "output_type": "execute_result"
    }
   ],
   "source": [
    "azdias_rm_outlier_w_dummies.shape"
   ]
  },
  {
   "cell_type": "markdown",
   "metadata": {},
   "source": [
    "#### Discussion 1.2.1: Re-Encode Categorical Features\n",
    "\n",
    "(Double-click this cell and replace this text with your own text, reporting your findings and decisions regarding categorical features. Which ones did you keep, which did you drop, and what engineering steps did you perform? )<br>\n",
    "Answer: Among the 21 categorical features, 5 of them are binary. For the remaining 16 features, CAMEO_DEU_2015 was removed as it has 44 levels, which is redundant. Also, 3 of the remaining 15 features were removed as outliers at step 1.1.2. One-hot-encode has been done for the 12 features. "
   ]
  },
  {
   "cell_type": "markdown",
   "metadata": {},
   "source": [
    "#### Step 1.2.2: Engineer Mixed-Type Features\n",
    "\n",
    "There are a handful of features that are marked as \"mixed\" in the feature summary that require special treatment in order to be included in the analysis. There are two in particular that deserve attention; the handling of the rest are up to your own choices:\n",
    "- \"PRAEGENDE_JUGENDJAHRE\" combines information on three dimensions: generation by decade, movement (mainstream vs. avantgarde), and nation (east vs. west). While there aren't enough levels to disentangle east from west, you should create two new variables to capture the other two dimensions: an interval-type variable for decade, and a binary variable for movement.\n",
    "- \"CAMEO_INTL_2015\" combines information on two axes: wealth and life stage. Break up the two-digit codes by their 'tens'-place and 'ones'-place digits into two new ordinal variables (which, for the purposes of this project, is equivalent to just treating them as their raw numeric values).\n",
    "- If you decide to keep or engineer new features around the other mixed-type features, make sure you note your steps in the Discussion section.\n",
    "\n",
    "Be sure to check `Data_Dictionary.md` for the details needed to finish these tasks."
   ]
  },
  {
   "cell_type": "code",
   "execution_count": 18,
   "metadata": {},
   "outputs": [
    {
     "name": "stdout",
     "output_type": "stream",
     "text": [
      "Data Dictionary for Identify Customer Segments Data\n",
      "Introduction\n",
      "The data for this project consist of two files:\n",
      "\n",
      "Udacity_AZDIAS_Subset.csv: demographics data for the general population of\n",
      "      Germany; 891211 persons (rows) x 85 features (columns)\n",
      "Udacity_CUSTOMERS_Subset.csv: demographics data for customers of a mail-order\n",
      "      company; 191652 persons (rows) x 85 features (columns)\n",
      "\n",
      "The columns in the general demographics file and customers data file are the\n",
      "same. This file documents the features that appear in the data files, sorted in\n",
      "order of appearance. Sections of this file is based on the level of measurement\n",
      "of each feature. The file \"AZDIAS_Feature_Summary.csv\" contains a summary of\n",
      "feature attributes, including information level, data type, and codes for\n",
      "missing or unknown values.\n",
      "Table of Contents\n",
      "\n",
      "Person-level features\n",
      "Household-level features\n",
      "Building-level features\n",
      "RR4 micro-cell features\n",
      "RR3 micro-cell features\n",
      "Postcode-level features\n",
      "RR1 neighborhood features\n",
      "PLZ8 macro-cell features\n",
      "Community-level features\n",
      "\n",
      "\n",
      "1. Person-level features\n",
      "1.1. AGER_TYP\n",
      "Best-ager typology\n",
      "- -1: unknown\n",
      "-  0: no classification possible\n",
      "-  1: passive elderly\n",
      "-  2: cultural elderly\n",
      "-  3: experience-driven elderly\n",
      "1.2. ALTERSKATEGORIE_GROB\n",
      "Estimated age based on given name analysis\n",
      "- -1: unknown (missing)\n",
      "-  0: unknown (cannot be determined)\n",
      "-  1: < 30 years old\n",
      "-  2: 30 - 45 years old\n",
      "-  3: 46 - 60 years old\n",
      "-  4: > 60 years old\n",
      "-  9: uniformly distributed\n",
      "1.3. ANREDE_KZ\n",
      "Gender\n",
      "- -1: unknown (missing)\n",
      "-  0: unknown (cannot be determined)\n",
      "-  1: male\n",
      "-  2: female\n",
      "1.4. CJT_GESAMTTYP\n",
      "Customer-Journey-Typology: preferred information and buying channels for\n",
      "consumer\n",
      "- 0: unknown\n",
      "- 1: Advertising- and Consumptionminimalist\n",
      "- 2: Advertising- and Consumptiontraditionalist\n",
      "- 3: advertisinginterested Store-shopper\n",
      "- 4: advertisinginterested Online-shopper\n",
      "- 5: Advertising- and Cross-Channel-Enthusiast\n",
      "- 6: Advertising-Enthusiast with restricted Cross-Channel-Behaviour\n",
      "1.5. FINANZ_MINIMALIST, FINANZ_SPARER, FINANZ_VORSORGER, FINANZ_ANLEGER,\n",
      "FINANZ_UNAUFFAELLIGER, FINANZ_HAUSBAUER\n",
      "Financial typology, for each dimension:\n",
      "- -1: unknown\n",
      "-  1: very high\n",
      "-  2: high\n",
      "-  3: average\n",
      "-  4: low\n",
      "-  5: very low\n",
      "Dimension translations:\n",
      "- MINIMALIST: low financial interest\n",
      "- SPARER: money-saver\n",
      "- VORSORGER: be prepared\n",
      "- ANLEGER: investor\n",
      "- UNAUFFAELLIGER: inconspicuous\n",
      "- HAUSBAUER: home ownership\n",
      "1.6. FINANZTYP\n",
      "Most descriptive financial type for individual\n",
      "- -1: unknown\n",
      "-  1: low financial interest (MINIMALIST)\n",
      "-  2: money-saver (SPARER)\n",
      "-  3: home ownership (HAUSBAUER)\n",
      "-  4: be prepared (VORSORGER)\n",
      "-  5: investor (ANLEGER)\n",
      "-  6: inconspicuous (UNAUFFAELLIGER)\n",
      "1.7. GEBURTSJAHR\n",
      "Year of birth\n",
      "- missing data encoded as 0\n",
      "1.8. GFK_URLAUBERTYP\n",
      "Vacation habits\n",
      "-  1: Event travelers\n",
      "-  2: Family-oriented vacationists\n",
      "-  3: Winter sportspeople\n",
      "-  4: Culture lovers\n",
      "-  5: Nature fans\n",
      "-  6: Hiker\n",
      "-  7: Golden ager\n",
      "-  8: Homeland-connected vacationists\n",
      "-  9: Package tour travelers\n",
      "- 10: Connoisseurs\n",
      "- 11: Active families\n",
      "- 12: Without vacation\n",
      "1.9. GREEN_AVANTGARDE\n",
      "Membership in environmental sustainability as part of youth\n",
      "- 0: not a member of green avantgarde\n",
      "- 1: member of green avantgarde\n",
      "1.10. HEALTH_TYP\n",
      "Health typology\n",
      "- -1: unknown\n",
      "-  0: classification not possible\n",
      "-  1: critical reserved\n",
      "-  2: sanitary affine\n",
      "-  3: jaunty hedonists\n",
      "1.11. LP_LEBENSPHASE_FEIN\n",
      "Life stage, fine scale\n",
      "-  1: single low-income earners of younger age\n",
      "-  2: single low-income earners of middle age\n",
      "-  3: single average earners of younger age\n",
      "-  4: single average earners of middle age\n",
      "-  5: single low-income earners of advanced age\n",
      "-  6: single low-income earners at retirement age\n",
      "-  7: single average earners of advanced age\n",
      "-  8: single average earners at retirement age\n",
      "-  9: single independent persons\n",
      "- 10: wealthy single homeowners\n",
      "- 11: single homeowners of advanced age\n",
      "- 12: single homeowners at retirement age\n",
      "- 13: single top earners of higher age\n",
      "- 14: low-income and average earner couples of younger age\n",
      "- 15: low-income earner couples of higher age\n",
      "- 16: average earner couples of higher age\n",
      "- 17: independent couples\n",
      "- 18: wealthy homeowner couples of younger age\n",
      "- 19: homeowner couples of higher age\n",
      "- 20: top earner couples of higher age\n",
      "- 21: single parent low-income earners\n",
      "- 22: single parent average earners\n",
      "- 23: single parent high-income earners\n",
      "- 24: low-income earner families\n",
      "- 25: average earner families\n",
      "- 26: independent families\n",
      "- 27: homeowner families\n",
      "- 28: top earner families\n",
      "- 29: low-income earners of younger age from multiperson households\n",
      "- 30: average earners of younger age from multiperson households\n",
      "- 31: low-income earners of higher age from multiperson households\n",
      "- 32: average earners of higher age from multiperson households\n",
      "- 33: independent persons of younger age from multiperson households\n",
      "- 34: homeowners of younger age from multiperson households\n",
      "- 35: top earners of younger age from multiperson households\n",
      "- 36: independent persons of higher age from multiperson households\n",
      "- 37: homeowners of advanced age from multiperson households\n",
      "- 38: homeowners at retirement age from multiperson households\n",
      "- 39: top earners of middle age from multiperson households\n",
      "- 40: top earners at retirement age from multiperson households\n",
      "1.12. LP_LEBENSPHASE_GROB\n",
      "Life stage, rough scale\n",
      "-  1: single low-income and average earners of younger age\n",
      "-  2: single low-income and average earners of higher age\n",
      "-  3: single high-income earners\n",
      "-  4: single low-income and average-earner couples\n",
      "-  5: single high-income earner couples\n",
      "-  6: single parents\n",
      "-  7: single low-income and average earner families\n",
      "-  8: high-income earner families\n",
      "-  9: average earners of younger age from multiperson households\n",
      "- 10: low-income and average earners of higher age from multiperson households\n",
      "- 11: high-income earners of younger age from multiperson households\n",
      "- 12: high-income earners of higher age from multiperson households\n",
      "1.13. LP_FAMILIE_FEIN\n",
      "Family type, fine scale\n",
      "-  0: unknown\n",
      "-  1: single\n",
      "-  2: couple\n",
      "-  3: young single parent\n",
      "-  4: single parent with teenager\n",
      "-  5: single parent with child of full age\n",
      "-  6: young family\n",
      "-  7: family with teenager\n",
      "-  8: family with child of full age\n",
      "-  9: shared flat\n",
      "- 10: two-generational household\n",
      "- 11: multi-generational household\n",
      "1.14. LP_FAMILIE_GROB\n",
      "Family type, rough scale\n",
      "- 0: unknown\n",
      "- 1: single (maps to 1 in fine scale)\n",
      "- 2: couple (maps to 2 in fine scale)\n",
      "- 3: single parent (maps to 3-5 in fine scale)\n",
      "- 4: family (maps to 6-8 in fine scale)\n",
      "- 5: multiperson household (maps to 9-11 in fine scale)\n",
      "1.15. LP_STATUS_FEIN\n",
      "Social status, fine scale\n",
      "-  1: typical low-income earners\n",
      "-  2: orientation-seeking low-income earners\n",
      "-  3: aspiring low-income earners\n",
      "-  4: villagers\n",
      "-  5: minimalistic high-income earners\n",
      "-  6: independent workers\n",
      "-  7: title holder-households\n",
      "-  8: new houseowners\n",
      "-  9: houseowners\n",
      "- 10: top earners\n",
      "1.16. LP_STATUS_GROB\n",
      "Social status, rough scale\n",
      "- 1: low-income earners (maps to 1-2 in fine scale)\n",
      "- 2: average earners (maps to 3-5 in fine scale)\n",
      "- 3: independents (maps to 6-7 in fine scale)\n",
      "- 4: houseowners (maps to 8-9 in fine scale)\n",
      "- 5: top earners (maps to 10 in fine scale)\n",
      "1.17. NATIONALITAET_KZ\n",
      "Nationality based on given name analysis\n",
      "- -1: unknown\n",
      "-  0: unknown\n",
      "-  1: German-sounding\n",
      "-  2: foreign-sounding\n",
      "-  3: assimilated names\n",
      "1.18. PRAEGENDE_JUGENDJAHRE\n",
      "Dominating movement of person's youth (avantgarde vs. mainstream; east vs. west)\n",
      "- -1: unknown\n",
      "-  0: unknown\n",
      "-  1: 40s - war years (Mainstream, E+W)\n",
      "-  2: 40s - reconstruction years (Avantgarde, E+W)\n",
      "-  3: 50s - economic miracle (Mainstream, E+W)\n",
      "-  4: 50s - milk bar / Individualisation (Avantgarde, E+W)\n",
      "-  5: 60s - economic miracle (Mainstream, E+W)\n",
      "-  6: 60s - generation 68 / student protestors (Avantgarde, W)\n",
      "-  7: 60s - opponents to the building of the Wall (Avantgarde, E)\n",
      "-  8: 70s - family orientation (Mainstream, E+W)\n",
      "-  9: 70s - peace movement (Avantgarde, E+W)\n",
      "- 10: 80s - Generation Golf (Mainstream, W)\n",
      "- 11: 80s - ecological awareness (Avantgarde, W)\n",
      "- 12: 80s - FDJ / communist party youth organisation (Mainstream, E)\n",
      "- 13: 80s - Swords into ploughshares (Avantgarde, E)\n",
      "- 14: 90s - digital media kids (Mainstream, E+W)\n",
      "- 15: 90s - ecological awareness (Avantgarde, E+W)\n",
      "1.19. RETOURTYP_BK_S\n",
      "Return type\n",
      "- 0: unknown\n",
      "- 1: influenceable Crazy-Shopper\n",
      "- 2: demanding Heavy-Returner\n",
      "- 3: incentive-receptive Normal-Returner\n",
      "- 4: conservative Low-Returner\n",
      "- 5: determined Minimal-Returner\n",
      "1.20. SEMIO_SOZ, SEMIO_FAM, SEMIO_REL, SEMIO_MAT, SEMIO_VERT, SEMIO_LUST,\n",
      "SEMIO_ERL, SEMIO_KULT, SEMIO_RAT, SEMIO_KRIT, SEMIO_DOM, SEMIO_KAEM,\n",
      "SEMIO_PFLICHT, SEMIO_TRADV\n",
      "Personality typology, for each dimension:\n",
      "- -1: unknown\n",
      "-  1: highest affinity\n",
      "-  2: very high affinity\n",
      "-  3: high affinity\n",
      "-  4: average affinity\n",
      "-  5: low affinity\n",
      "-  6: very low affinity\n",
      "-  7: lowest affinity\n",
      "-  9: unknown\n",
      "Dimension translations:\n",
      "- SOZ: socially-minded\n",
      "- FAM: family-minded\n",
      "- REL: religious\n",
      "- MAT: materialistic\n",
      "- VERT: dreamful\n",
      "- LUST: sensual-minded\n",
      "- ERL: event-oriented\n",
      "- KULT: cultural-minded\n",
      "- RAT: rational\n",
      "- KRIT: critical-minded\n",
      "- DOM: dominant-minded\n",
      "- KAEM: combative attitude\n",
      "- PFLICHT: dutiful\n",
      "- TRADV: tradional-minded\n",
      "1.21. SHOPPER_TYP\n",
      "Shopper typology\n",
      "- -1: unknown\n",
      "-  0: external supplied hedonists\n",
      "-  1: Shopping-stressed\n",
      "-  2: family-shopper\n",
      "-  3: demanding shopper\n",
      "1.22. SOHO_KZ\n",
      "Small office / home office flag\n",
      "- -1: unknown\n",
      "- 0: no small office/home office\n",
      "- 1: small office/home office\n",
      "1.23. TITEL_KZ\n",
      "Academic title flag\n",
      "- -1: unknown\n",
      "-  0: unknown\n",
      "-  1: Dr.\n",
      "-  2: Dr. Dr.\n",
      "-  3: Prof.\n",
      "-  4: Prof. Dr.\n",
      "-  5: other\n",
      "1.24. VERS_TYP\n",
      "Insurance typology\n",
      "- -1: unknown\n",
      "-  1: social-safety driven\n",
      "-  2: individualistic-accepting risks\n",
      "1.25. ZABEOTYP\n",
      "Energy consumption typology\n",
      "- -1: unknown\n",
      "-  1: green\n",
      "-  2: smart\n",
      "-  3: fair supplied\n",
      "-  4: price driven\n",
      "-  5: seeking orientation\n",
      "-  6: indifferent\n",
      "-  9: unknown\n",
      "\n",
      "2. Household-level features\n",
      "2.1. ALTER_HH\n",
      "Birthdate of head of household\n",
      "-  0: unknown / no main age detectable\n",
      "-  1: 1895-01-01 to 1899-12-31\n",
      "-  2: 1900-01-01 to 1904-12-31\n",
      "-  3: 1905-01-01 to 1909-12-31\n",
      "-  4: 1910-01-01 to 1914-12-31\n",
      "-  5: 1915-01-01 to 1919-12-31\n",
      "-  6: 1920-01-01 to 1924-12-31\n",
      "-  7: 1925-01-01 to 1929-12-31\n",
      "-  8: 1930-01-01 to 1934-12-31\n",
      "-  9: 1935-01-01 to 1939-12-31\n",
      "- 10: 1940-01-01 to 1944-12-31\n",
      "- 11: 1945-01-01 to 1949-12-31\n",
      "- 12: 1950-01-01 to 1954-12-31\n",
      "- 13: 1955-01-01 to 1959-12-31\n",
      "- 14: 1960-01-01 to 1964-12-31\n",
      "- 15: 1965-01-01 to 1969-12-31\n",
      "- 16: 1970-01-01 to 1974-12-31\n",
      "- 17: 1975-01-01 to 1979-12-31\n",
      "- 18: 1980-01-01 to 1984-12-31\n",
      "- 19: 1985-01-01 to 1989-12-31\n",
      "- 20: 1990-01-01 to 1994-12-31\n",
      "- 21: 1995-01-01 to 1999-12-31\n",
      "2.2. ANZ_PERSONEN\n",
      "Number of adults in household\n",
      "2.3. ANZ_TITEL\n",
      "Number of professional academic title holders in household\n",
      "2.4. HH_EINKOMMEN_SCORE\n",
      "Estimated household net income\n",
      "- -1: unknown\n",
      "-  0: unknown\n",
      "-  1: highest income\n",
      "-  2: very high income\n",
      "-  3: high income\n",
      "-  4: average income\n",
      "-  5: lower income\n",
      "-  6: very low income\n",
      "2.5. KK_KUNDENTYP\n",
      "Consumer pattern over past 12 months\n",
      "- -1: unknown\n",
      "-  1: regular customer\n",
      "-  2: active customer\n",
      "-  3: new costumer\n",
      "-  4: stray customer\n",
      "-  5: inactive customer\n",
      "-  6: passive customer\n",
      "2.6. W_KEIT_KIND_HH\n",
      "Likelihood of children in household\n",
      "- -1: unknown\n",
      "-  0: unknown\n",
      "-  1: most likely\n",
      "-  2: very likely\n",
      "-  3: likely\n",
      "-  4: average\n",
      "-  5: unlikely\n",
      "-  6: very unlikely\n",
      "2.7. WOHNDAUER_2008\n",
      "Length of residence\n",
      "- -1: unknown\n",
      "-  0: unknown\n",
      "-  1: length of residence less than 1 year\n",
      "-  2: length of residence 1-2 years\n",
      "-  3: length of residence 2-3 years\n",
      "-  4: length of residence 3-4 years\n",
      "-  5: length of residence 4-5 years\n",
      "-  6: length of residence 5-6 years\n",
      "-  7: length of residence 6-7 years\n",
      "-  8: length of residence 7-10 years\n",
      "-  9: length of residence more than 10 years\n",
      "\n",
      "3. Building-level features\n",
      "3.1. ANZ_HAUSHALTE_AKTIV\n",
      "Number of households in the building\n",
      "- missing values encoded by 0\n",
      "3.2. ANZ_HH_TITEL\n",
      "Number of professional academic title holders in building\n",
      "3.3. GEBAEUDETYP\n",
      "Type of building (residential vs. commercial)\n",
      "- -1: unknown\n",
      "-  0: unknown\n",
      "-  1: residential building\n",
      "-  2: residential building buildings without actually known household\n",
      "-  3: mixed (=residential and company) building\n",
      "-  4: mixed building without actually known household or company\n",
      "-  5: company building w/o known company\n",
      "-  6: mixed building without actually known household\n",
      "-  7: company building\n",
      "-  8: mixed building without actually known company\n",
      "3.4. KONSUMNAEHE\n",
      "Distance from building to point of sale (PoS)\n",
      "- 1: building is located in a 125 x 125m grid cell (RA1), which is a\n",
      "     consumption cell\n",
      "- 2: building is located in a 250 x 250m grid cell that includes at least one\n",
      "     RA1-consumption cell\n",
      "- 3: building is located in a 500 x 500m grid cell that includes at least one\n",
      "     RA1-consumption cell\n",
      "- 4: building is located in a 1 x 1km grid cell that includes at least one\n",
      "     RA1-consumption cell\n",
      "- 5: building is located in a 2 x 2km grid cell that includes at least one\n",
      "     RA1-consumption cell\n",
      "- 6: building is located in a 10 x 10km grid cell that includes at least one\n",
      "     RA1-consumption cell\n",
      "- 7: building is not located in a 10 x 10km range of a consumption cell\n",
      "3.5. MIN_GEBAEUDEJAHR\n",
      "First year building was mentioned in the database\n",
      "- missing values encoded by 0\n",
      "3.6. OST_WEST_KZ\n",
      "Building location via former East / West Germany (GDR / FRG)\n",
      "- -1: unknown\n",
      "-  O: East (GDR)\n",
      "-  W: West (FRG)\n",
      "3.7. WOHNLAGE\n",
      "Neighborhood quality (or rural flag)\n",
      "- -1: unknown\n",
      "-  0: no score calculated\n",
      "-  1: very good neighborhood\n",
      "-  2: good neighborhood\n",
      "-  3: average neighborhood\n",
      "-  4: poor neighborhood\n",
      "-  5: very poor neighborhood\n",
      "-  7: rural neighborhood\n",
      "-  8: new building in rural neighborhood\n",
      "\n",
      "4. RR4 micro-cell features\n",
      "4.1. CAMEO_DEUG_2015\n",
      "German CAMEO: Wealth / Life Stage Typology, rough scale\n",
      "- -1: unknown\n",
      "-  1: upper class\n",
      "-  2: upper middleclass\n",
      "-  3: established middleclass\n",
      "-  4: consumption-oriented middleclass\n",
      "-  5: active middleclass\n",
      "-  6: low-consumption middleclass\n",
      "-  7: lower middleclass\n",
      "-  8: working class\n",
      "-  9: urban working class\n",
      "-  X: unknown\n",
      "4.2. CAMEO_DEU_2015\n",
      "German CAMEO: Wealth / Life Stage Typology, detailed scale\n",
      "- 1A: Work-Life-Balance\n",
      "- 1B: Wealthy Best Ager\n",
      "- 1C: Successful Songwriter\n",
      "- 1D: Old Nobility\n",
      "- 1E: City Nobility\n",
      "- 2A: Cottage Chic\n",
      "- 2B: Noble Jogger\n",
      "- 2C: Established gourmet\n",
      "- 2D: Fine Management\n",
      "- 3A: Career & Family\n",
      "- 3B: Powershopping Families\n",
      "- 3C: Rural Neighborhood\n",
      "- 3D: Secure Retirement\n",
      "- 4A: Family Starter\n",
      "- 4B: Family Life\n",
      "- 4C: String Trimmer\n",
      "- 4D: Empty Nest\n",
      "- 4E: Golden Ager\n",
      "- 5A: Younger Employees\n",
      "- 5B: Suddenly Family\n",
      "- 5C: Family First\n",
      "- 5D: Stock Market Junkies\n",
      "- 5E: Coffee Rider\n",
      "- 5F: Active Retirement\n",
      "- 6A: Jobstarter\n",
      "- 6B: Petty Bourgeois\n",
      "- 6C: Long-established\n",
      "- 6D: Sportgardener\n",
      "- 6E: Urban Parents\n",
      "- 6F: Frugal Aging\n",
      "- 7A: Journeymen\n",
      "- 7B: Mantaplatte\n",
      "- 7C: Factory Worker\n",
      "- 7D: Rear Window\n",
      "- 7E: Interested Retirees\n",
      "- 8A: Multi-culteral\n",
      "- 8B: Young & Mobile\n",
      "- 8C: Prefab\n",
      "- 8D: Town Seniors\n",
      "- 9A: First Shared Apartment\n",
      "- 9B: Temporary Workers\n",
      "- 9C: Afternoon Talk Show\n",
      "- 9D: Mini-Jobber\n",
      "- 9E: Socking Away\n",
      "- XX: unknown\n",
      "4.3. CAMEO_INTL_2015\n",
      "German CAMEO: Wealth / Life Stage Typology, mapped to international code\n",
      "- -1: unknown\n",
      "- 11: Wealthy Households - Pre-Family Couples & Singles\n",
      "- 12: Wealthy Households - Young Couples With Children\n",
      "- 13: Wealthy Households - Families With School Age Children\n",
      "- 14: Wealthy Households - Older Families &  Mature Couples\n",
      "- 15: Wealthy Households - Elders In Retirement\n",
      "- 21: Prosperous Households - Pre-Family Couples & Singles\n",
      "- 22: Prosperous Households - Young Couples With Children\n",
      "- 23: Prosperous Households - Families With School Age Children\n",
      "- 24: Prosperous Households - Older Families & Mature Couples\n",
      "- 25: Prosperous Households - Elders In Retirement\n",
      "- 31: Comfortable Households - Pre-Family Couples & Singles\n",
      "- 32: Comfortable Households - Young Couples With Children\n",
      "- 33: Comfortable Households - Families With School Age Children\n",
      "- 34: Comfortable Households - Older Families & Mature Couples\n",
      "- 35: Comfortable Households - Elders In Retirement\n",
      "- 41: Less Affluent Households - Pre-Family Couples & Singles\n",
      "- 42: Less Affluent Households - Young Couples With Children\n",
      "- 43: Less Affluent Households - Families With School Age Children\n",
      "- 44: Less Affluent Households - Older Families & Mature Couples\n",
      "- 45: Less Affluent Households - Elders In Retirement\n",
      "- 51: Poorer Households - Pre-Family Couples & Singles\n",
      "- 52: Poorer Households - Young Couples With Children\n",
      "- 53: Poorer Households - Families With School Age Children\n",
      "- 54: Poorer Households - Older Families & Mature Couples\n",
      "- 55: Poorer Households - Elders In Retirement\n",
      "- XX: unknown\n",
      "\n",
      "5. RR3 micro-cell features\n",
      "5.1. KBA05_ANTG1\n",
      "Number of 1-2 family houses in the microcell\n",
      "- -1: unknown\n",
      "-  0: no 1-2 family homes\n",
      "-  1: lower share of 1-2 family homes\n",
      "-  2: average share of 1-2 family homes\n",
      "-  3: high share of 1-2 family homes\n",
      "-  4: very high share of 1-2 family homes\n",
      "5.2. KBA05_ANTG2\n",
      "Number of 3-5 family houses in the microcell\n",
      "- -1: unknown\n",
      "-  0: no 3-5 family homes\n",
      "-  1: lower share of 3-5 family homes\n",
      "-  2: average share of 3-5 family homes\n",
      "-  3: high share of 3-5 family homes\n",
      "-  4: very high share of 3-5 family homes\n",
      "5.3. KBA05_ANTG3\n",
      "Number of 6-10 family houses in the microcell\n",
      "- -1: unknown\n",
      "-  0: no 6-10 family homes\n",
      "-  1: lower share of 6-10 family homes\n",
      "-  2: average share of 6-10 family homes\n",
      "-  3: high share of 6-10 family homes\n",
      "5.4. KBA05_ANTG4\n",
      "Number of 10+ family houses in the microcell\n",
      "- -1: unknown\n",
      "-  0: no 10+ family homes\n",
      "-  1: lower share of 10+ family homes\n",
      "-  2: high share of 10+ family homes\n",
      "5.5. KBA05_BAUMAX\n",
      "Most common building type within the microcell\n",
      "- -1: unknown\n",
      "-  0: unknown\n",
      "-  1: mainly 1-2 family homes in the microcell\n",
      "-  2: mainly 3-5 family homes in the microcell\n",
      "-  3: mainly 6-10 family homes in the microcell\n",
      "-  4: mainly 10+ family homes in the microcell\n",
      "-  5: mainly business buildings in the microcell\n",
      "5.6. KBA05_GBZ\n",
      "Number of buildings in the microcell\n",
      "- -1: unknown\n",
      "-  0: unknown\n",
      "-  1: 1-2 buildings\n",
      "-  2: 3-4 buildings\n",
      "-  3: 5-16 buildings\n",
      "-  4: 17-22 buildings\n",
      "-  5: >=23 buildings\n",
      "\n",
      "6. Postcode-level features\n",
      "6.1. BALLRAUM\n",
      "Distance to nearest urban center\n",
      "- -1: unknown\n",
      "-  1: less than 10 km\n",
      "-  2: 10 -  20 km\n",
      "-  3: 20 -  30 km\n",
      "-  4: 30 -  40 km\n",
      "-  5: 40 -  50 km\n",
      "-  6: 50 - 100 km\n",
      "-  7: more than 100 km\n",
      "6.2. EWDICHTE\n",
      "Density of households per square kilometer\n",
      "- -1: unknown\n",
      "-  1: less than 34 households per km^2\n",
      "-  2:  34 -  89 households per km^2\n",
      "-  3:  90 - 149 households per km^2\n",
      "-  4: 150 - 319 households per km^2\n",
      "-  5: 320 - 999 households per km^2\n",
      "-  6: more than 999 households per km^2\n",
      "6.3. INNENSTADT\n",
      "Distance to city center (downtown)\n",
      "- -1: unknown\n",
      "-  1: in city center\n",
      "-  2: less than 3 km to city center\n",
      "-  3:  3 -  5 km to city center\n",
      "-  4:  5 - 10 km to city center\n",
      "-  5: 10 - 20 km to city center\n",
      "-  6: 20 - 30 km to city center\n",
      "-  7: 30 - 40 km to city center\n",
      "-  8: more than 40 km to city center\n",
      "\n",
      "7. RR1 region features\n",
      "7.1. GEBAEUDETYP_RASTER\n",
      "Ratio of residential to commercial activity\n",
      "- 1: business cell\n",
      "- 2: mixed cell with high business share\n",
      "- 3: mixed cell with middle business share\n",
      "- 4: mixed cell with low business share\n",
      "- 5: residential cell\n",
      "7.2. KKK\n",
      "Purchasing power in region\n",
      "- -1; unknown\n",
      "-  0: unknown\n",
      "-  1: very high\n",
      "-  2: high\n",
      "-  3: average\n",
      "-  4: low\n",
      "7.3. MOBI_REGIO\n",
      "Movement patterns\n",
      "- 1: very high movement\n",
      "- 2: high movement\n",
      "- 3: middle movement\n",
      "- 4: low movement\n",
      "- 5: very low movement\n",
      "- 6: none\n",
      "7.4. ONLINE_AFFINITAET\n",
      "Online affinity\n",
      "- 0: none\n",
      "- 1: low\n",
      "- 2: middle\n",
      "- 3: high\n",
      "- 4: very high\n",
      "- 5: highest\n",
      "7.5. REGIOTYP\n",
      "Neighborhood typology\n",
      "- -1: unknown\n",
      "-  0: unknown\n",
      "-  1: upper class\n",
      "-  2: conservatives\n",
      "-  3: upper middle class\n",
      "-  4: middle class\n",
      "-  5: lower middle class\n",
      "-  6: traditional workers\n",
      "-  7: marginal groups\n",
      "\n",
      "8. PLZ8 macro-cell features\n",
      "8.1. KBA13_ANZAHL_PKW\n",
      "Number of cars in the PLZ8 region\n",
      "8.2. PLZ8_ANTG1\n",
      "Number of 1-2 family houses in the PLZ8 region\n",
      "- -1: unknown\n",
      "-  0: no 1-2 family homes\n",
      "-  1: lower share of 1-2 family homes\n",
      "-  2: average share of 1-2 family homes\n",
      "-  3: high share of 1-2 family homes\n",
      "-  4: very high share of 1-2 family homes\n",
      "8.3. PLZ8_ANTG2\n",
      "Number of 3-5 family houses in the PLZ8 region\n",
      "- -1: unknown\n",
      "-  0: no 3-5 family homes\n",
      "-  1: lower share of 3-5 family homes\n",
      "-  2: average share of 3-5 family homes\n",
      "-  3: high share of 3-5 family homes\n",
      "-  4: very high share of 3-5 family homes\n",
      "8.4. PLZ8_ANTG3\n",
      "Number of 6-10 family houses in the PLZ8 region\n",
      "- -1: unknown\n",
      "-  0: no 6-10 family homes\n",
      "-  1: lower share of 6-10 family homes\n",
      "-  2: average share of 6-10 family homes\n",
      "-  3: high share of 6-10 family homes\n",
      "8.5. PLZ8_ANTG4\n",
      "Number of 10+ family houses in the PLZ8 region\n",
      "- -1: unknown\n",
      "-  0: no 10+ family homes\n",
      "-  1: lower share of 10+ family homes\n",
      "-  2: high share of 10+ family homes\n",
      "8.6. PLZ8_BAUMAX\n",
      "Most common building type within the PLZ8 region\n",
      "- -1: unknown\n",
      "-  0: unknown\n",
      "-  1: mainly 1-2 family homes\n",
      "-  2: mainly 3-5 family homes\n",
      "-  3: mainly 6-10 family homes\n",
      "-  4: mainly 10+ family homes\n",
      "-  5: mainly business buildings\n",
      "8.7. PLZ8_HHZ\n",
      "Number of households within the PLZ8 region\n",
      "- -1: unknown\n",
      "-  1: less than 130 households\n",
      "-  2: 131-299 households\n",
      "-  3: 300-599 households\n",
      "-  4: 600-849 households\n",
      "-  5: more than 849 households\n",
      "8.8. PLZ8_GBZ\n",
      "Number of buildings within the PLZ8 region\n",
      "- -1: unknown\n",
      "-  1: less than 60 buildings\n",
      "-  2:  60-129 buildings\n",
      "-  3: 130-299 buildings\n",
      "-  4: 300-449 buildings\n",
      "-  5: more than 449 buildings\n",
      "\n",
      "9. Community-level features\n",
      "9.1. ARBEIT\n",
      "Share of unemployment in community\n",
      "- -1: unknown\n",
      "-  1: very low\n",
      "-  2: low\n",
      "-  3: average\n",
      "-  4: high\n",
      "-  5: very high\n",
      "-  9: unknown\n",
      "9.2. ORTSGR_KLS9\n",
      "Size of community\n",
      "- -1: unknown\n",
      "-  1: <= 2,000 inhabitants\n",
      "-  2:   2,001 to   5,000 inhabitants\n",
      "-  3:   5,001 to  10,000 inhabitants\n",
      "-  4:  10,001 to  20,000 inhabitants\n",
      "-  5:  20,001 to  50,000 inhabitants\n",
      "-  6:  50,001 to 100,000 inhabitants\n",
      "-  7: 100,001 to 300,000 inhabitants\n",
      "-  8: 300,001 to 700,000 inhabitants\n",
      "-  9: > 700,000  inhabitants\n",
      "9.3. RELAT_AB\n",
      "Share of unemployment relative to county in which community is contained\n",
      "- -1: unknown\n",
      "-  1: very low\n",
      "-  2: low\n",
      "-  3: average\n",
      "-  4: high\n",
      "-  5: very high\n",
      "-  9: unknown\n"
     ]
    },
    {
     "name": "stderr",
     "output_type": "stream",
     "text": [
      "/opt/conda/lib/python3.6/site-packages/bs4/__init__.py:181: UserWarning: No parser was explicitly specified, so I'm using the best available HTML parser for this system (\"lxml\"). This usually isn't a problem, but if you run this code on another system, or in a different virtual environment, it may use a different parser and behave differently.\n",
      "\n",
      "The code that caused this warning is on line 193 of the file /opt/conda/lib/python3.6/runpy.py. To get rid of this warning, change code that looks like this:\n",
      "\n",
      " BeautifulSoup(YOUR_MARKUP})\n",
      "\n",
      "to this:\n",
      "\n",
      " BeautifulSoup(YOUR_MARKUP, \"lxml\")\n",
      "\n",
      "  markup_type=markup_type))\n"
     ]
    }
   ],
   "source": [
    "html = markdown.markdown(open(\"Data_Dictionary.md\").read())\n",
    "print (\"\".join(BeautifulSoup(html).findAll(text=True)))"
   ]
  },
  {
   "cell_type": "code",
   "execution_count": 19,
   "metadata": {},
   "outputs": [
    {
     "name": "stdout",
     "output_type": "stream",
     "text": [
      "7.0       4010\n",
      "13.0      5764\n",
      "2.0       7479\n",
      "4.0      20451\n",
      "1.0      21282\n",
      "12.0     24446\n",
      "6.0      25652\n",
      "9.0      33570\n",
      "11.0     35752\n",
      "15.0     42547\n",
      "3.0      55195\n",
      "10.0     85808\n",
      "5.0      86416\n",
      "8.0     145988\n",
      "14.0    188697\n",
      "Name: PRAEGENDE_JUGENDJAHRE, dtype: int64\n"
     ]
    }
   ],
   "source": [
    "# Investigate \"PRAEGENDE_JUGENDJAHRE\" and engineer two new variables.\n",
    "print(azdias['PRAEGENDE_JUGENDJAHRE'].value_counts().sort_values())\n",
    "azdias_rm_outlier_w_dummies['PRAEGENDE_JUGENDJAHRE_DECADE'] = azdias.PRAEGENDE_JUGENDJAHRE.map({1:40,2:40,3:50,4:50,5:60,6:60,7:60,8:70,9:70,10:80,11:80,12:80,13:80,14:90,15:90})\n",
    "azdias_rm_outlier_w_dummies['PRAEGENDE_JUGENDJAHRE_MOVEMENT'] = azdias.PRAEGENDE_JUGENDJAHRE.map({1:0,2:1,3:0,4:1,5:0,6:1,7:1,8:0,9:1,10:0,11:1,12:0,13:1,14:0,15:1})"
   ]
  },
  {
   "cell_type": "code",
   "execution_count": 20,
   "metadata": {},
   "outputs": [],
   "source": [
    "#Investigate \"CAMEO_INTL_2015\" and engineer two new variables.\n",
    "azdias_rm_outlier_w_dummies['CAMEO_INTL_2015_WEALTH'] = azdias['CAMEO_INTL_2015'].map({'11':1,'12':1,'13':1,'14':1,'15':1,\n",
    "                                                                                       '21':2,'22':2,'23':2,'24':2,'25':2,\n",
    "                                                                                       '31':3,'32':3,'33':3,'34':3,'35':3,\n",
    "                                                                                       '41':4,'42':4,'43':4,'44':4,'45':4,\n",
    "                                                                                       '51':5,'52':5,'53':5,'54':5,'55':5})\n",
    "azdias_rm_outlier_w_dummies['CAMEO_INTL_2015_LIFESTAGE'] = azdias['CAMEO_INTL_2015'].map({'11':1,'12':2,'13':3,'14':4,'15':5,\n",
    "                                                                                       '21':1,'22':2,'23':3,'24':4,'25':5,\n",
    "                                                                                       '31':1,'32':2,'33':3,'34':4,'35':5,\n",
    "                                                                                       '41':1,'42':2,'43':3,'44':4,'45':5,\n",
    "                                                                                       '51':1,'52':2,'53':3,'54':4,'55':5})"
   ]
  },
  {
   "cell_type": "code",
   "execution_count": 21,
   "metadata": {},
   "outputs": [],
   "source": [
    "# remove PRAEGENDE_JUGENDJAHRE,CAMEO_INTL_2015 from azdias_rm_outlier_w_dummies\n",
    "azdias_rm_outlier_w_dummies.drop(columns=['PRAEGENDE_JUGENDJAHRE','CAMEO_INTL_2015','LP_LEBENSPHASE_FEIN'],inplace=True)"
   ]
  },
  {
   "cell_type": "markdown",
   "metadata": {},
   "source": [
    "#### Discussion 1.2.2: Engineer Mixed-Type Features\n",
    "\n",
    "(Double-click this cell and replace this text with your own text, reporting your findings and decisions regarding mixed-value features. Which ones did you keep, which did you drop, and what engineering steps did you perform?)<br>\n",
    "There are a total of 7 mixed-type features:LP_LEBENSPHASE_FEIN, LP_LEBENSPHASE_GROB, PRAEGENDE_JUGENDJAHRE, WOHNLAGE, CAMEO_INTL_2015, KBA05_BAUMAX and PLZ8_BAUMAX.\n",
    "1. Engineered two features as guided: PRAEGENDE_JUGENDJAHRE & CAMEO_INTL_2015 \n",
    "2. Dropped one mixed-value features LP_LEBENSPHASE_FEIN as it's a fine version of the 12-level LP_LEBENSPHASE_GROB with 40 levels, which is not very necessary. \n",
    "3. All the other 4 features were kept. \n"
   ]
  },
  {
   "cell_type": "markdown",
   "metadata": {},
   "source": [
    "#### Step 1.2.3: Complete Feature Selection\n",
    "\n",
    "In order to finish this step up, you need to make sure that your data frame now only has the columns that you want to keep. To summarize, the dataframe should consist of the following:\n",
    "- All numeric, interval, and ordinal type columns from the original dataset.\n",
    "- Binary categorical features (all numerically-encoded).\n",
    "- Engineered features from other multi-level categorical features and mixed features.\n",
    "\n",
    "Make sure that for any new columns that you have engineered, that you've excluded the original columns from the final dataset. Otherwise, their values will interfere with the analysis later on the project. For example, you should not keep \"PRAEGENDE_JUGENDJAHRE\", since its values won't be useful for the algorithm: only the values derived from it in the engineered features you created should be retained. As a reminder, your data should only be from **the subset with few or no missing values**."
   ]
  },
  {
   "cell_type": "code",
   "execution_count": 22,
   "metadata": {},
   "outputs": [],
   "source": [
    "# If there are other re-engineering tasks you need to perform, make sure you\n",
    "# take care of them here. (Dealing with missing data will come in step 2.1.)\n",
    "# subset rows with less than 17 missing columns \n",
    "azdias_rm_outlier_w_dummies_subset_2 = azdias_rm_outlier_w_dummies.iloc[sum_under_17.index.values]"
   ]
  },
  {
   "cell_type": "code",
   "execution_count": 23,
   "metadata": {},
   "outputs": [
    {
     "name": "stdout",
     "output_type": "stream",
     "text": [
      "No\n",
      "No\n",
      "No\n",
      "No\n",
      "No\n",
      "No\n",
      "No\n",
      "No\n",
      "No\n",
      "No\n"
     ]
    },
    {
     "data": {
      "text/plain": [
       "([<matplotlib.axis.XTick at 0x7f902458f668>,\n",
       "  <matplotlib.axis.XTick at 0x7f9024586048>,\n",
       "  <matplotlib.axis.XTick at 0x7f902451a358>,\n",
       "  <matplotlib.axis.XTick at 0x7f90240d8160>,\n",
       "  <matplotlib.axis.XTick at 0x7f90240d8be0>,\n",
       "  <matplotlib.axis.XTick at 0x7f90240fd6d8>,\n",
       "  <matplotlib.axis.XTick at 0x7f90240fd9e8>,\n",
       "  <matplotlib.axis.XTick at 0x7f90240fd198>,\n",
       "  <matplotlib.axis.XTick at 0x7f9024130160>,\n",
       "  <matplotlib.axis.XTick at 0x7f9024130f98>,\n",
       "  <matplotlib.axis.XTick at 0x7f9024729240>,\n",
       "  <matplotlib.axis.XTick at 0x7f9024729668>],\n",
       " <a list of 12 Text xticklabel objects>)"
      ]
     },
     "execution_count": 23,
     "metadata": {},
     "output_type": "execute_result"
    },
    {
     "data": {
      "image/png": "[encoded data removed]",
      "text/plain": [
       "<matplotlib.figure.Figure at 0x7f9024530f28>"
      ]
     },
     "metadata": {
      "needs_background": "light"
     },
     "output_type": "display_data"
    }
   ],
   "source": [
    "# Do whatever you need to in order to ensure that the dataframe only contains\n",
    "# the columns that should be passed to the algorithm functions.\n",
    "\n",
    "# 1. Make sure that all the removed columns are not in the dataset;\n",
    "# (1) ALTER_HH, GEBURTSJAHR, KBA05_BAUMAX, KK_KUNDENTYP,AGER_TYP, TITEL_KZ,\n",
    "# (2) CAMEO_DEU_2015,PRAEGENDE_JUGENDJAHRE,CAMEO_INTL_2015,LP_LEBENSPHASE_FEIN\n",
    "list_of_columns = [\"ALTER_HH\",\"GEBURTSJAHR\",\"KBA05_BAUMAX\",\"KK_KUNDENTYP\",\"AGER_TYP\",\"TITEL_KZ\",\"CAMEO_DEU_2015\",\n",
    "                   \"PRAEGENDE_JUGENDJAHRE\",\"CAMEO_INTL_2015\",\"LP_LEBENSPHASE_FEIN\"]\n",
    "for colnames in list_of_columns:\n",
    "    if colnames in azdias_rm_outlier_w_dummies_subset_2.columns:\n",
    "        print (\"yes\")\n",
    "    else:\n",
    "        print(\"No\")\n",
    "# 2. check the missing columns again for all rows: \n",
    "hh=plt.hist(np.array(azdias_rm_outlier_w_dummies_subset_2.isnull().sum(axis=1)),bins=10)\n",
    "plt.xticks(np.arange(0, 60, 5))"
   ]
  },
  {
   "cell_type": "markdown",
   "metadata": {},
   "source": [
    "### Step 1.3: Create a Cleaning Function\n",
    "\n",
    "Even though you've finished cleaning up the general population demographics data, it's important to look ahead to the future and realize that you'll need to perform the same cleaning steps on the customer demographics data. In this substep, complete the function below to execute the main feature selection, encoding, and re-engineering steps you performed above. Then, when it comes to looking at the customer data in Step 3, you can just run this function on that DataFrame to get the trimmed dataset in a single step."
   ]
  },
  {
   "cell_type": "code",
   "execution_count": 24,
   "metadata": {},
   "outputs": [],
   "source": [
    "def clean_data(df,feat_info,percent_row,percent_column):\n",
    "    \"\"\"\n",
    "    Perform feature trimming, re-encoding, and engineering for demographics\n",
    "    data\n",
    "    \n",
    "    INPUT: Demographics DataFrame\n",
    "    OUTPUT: Trimmed and cleaned demographics DataFrame\n",
    "    \"\"\"\n",
    "    \n",
    "    # Put in code here to execute all main cleaning steps:\n",
    "    # convert missing value codes into NaNs, ...\n",
    "    group_1 = feat_info[feat_info['missing_or_unknown']=='[-1]'].index\n",
    "    group_2 = feat_info[feat_info['missing_or_unknown']=='[-1,9]'].index\n",
    "    group_3 = feat_info[feat_info['missing_or_unknown']=='[-1,0]'].index\n",
    "    group_4 = feat_info[feat_info['missing_or_unknown']=='[0]'].index\n",
    "    group_5 = feat_info[feat_info['missing_or_unknown']=='[-1,0,9]'].index\n",
    "    group_6 = feat_info[feat_info['missing_or_unknown']=='[-1,X]'].index\n",
    "    group_7 = feat_info[feat_info['missing_or_unknown']=='[-1,XX]'].index\n",
    "    group_8 = feat_info[feat_info['missing_or_unknown']=='[XX]'].index\n",
    "#Replace with NaN using the groups and the missing or unknown information from feat_info:\n",
    "    for indx in group_1:\n",
    "        df[feat_info.iloc[indx]['attribute']].replace([-1], np.nan,inplace=True)\n",
    "    for indx in group_2:\n",
    "        df[feat_info.iloc[indx]['attribute']].replace([-1,9], np.nan,inplace=True)\n",
    "    for indx in group_3:\n",
    "        df[feat_info.iloc[indx]['attribute']].replace([-1,0], np.nan,inplace=True)\n",
    "    for indx in group_4:\n",
    "        df[feat_info.iloc[indx]['attribute']].replace([0], np.nan,inplace=True)\n",
    "    for indx in group_5:\n",
    "        df[feat_info.iloc[indx]['attribute']].replace([-1,0,9], np.nan,inplace=True)\n",
    "    for indx in group_6:\n",
    "        df[feat_info.iloc[indx]['attribute']].replace([-1,'X'], np.nan,inplace=True)\n",
    "    for indx in group_7:\n",
    "        df[feat_info.iloc[indx]['attribute']].replace([-1,'XX'], np.nan,inplace=True)\n",
    "    for indx in group_8:\n",
    "        df[feat_info.iloc[indx]['attribute']].replace(['XX'], np.nan,inplace=True)\n",
    "    # remove selected columns and rows, ...\n",
    "    twenty_percent_row = df.shape[0] *percent_column\n",
    "    aa = df.isnull().sum()[df.isnull().sum()<twenty_percent_row]\n",
    "    #aa = aa.to_frame()\n",
    "    df_rm_outlier = df[aa.index.values]\n",
    "    sum_under_20p = df_rm_outlier.isnull().sum(axis=1)[df_rm_outlier.isnull().sum(axis=1)<=df.shape[1]*percent_row]\n",
    "    #sum_under_20p = sum_under_17.to_frame()\n",
    "    df_subset_2 = df_rm_outlier.iloc[sum_under_20p.index.values]\n",
    "       #if \"CAMEO_DEU_2015\" & \"LP_LEBENSPHASE_FEIN\", delete;\n",
    "    if 'CAMEO_DEU_2015' in df_subset_2.columns:\n",
    "        df_subset_2.drop(['CAMEO_DEU_2015'],axis=1,inplace=True)\n",
    "    if 'LP_LEBENSPHASE_FEIN' in df_subset_2:\n",
    "        df_subset_2.drop(['LP_LEBENSPHASE_FEIN'],axis=1,inplace=True)\n",
    "    # select, re-encode, and engineer column values.\n",
    "    list_for_dummies = []\n",
    "    for i in feat_info['attribute'][feat_info['type']==\"categorical\"].index:\n",
    "        if df.iloc[:,i].nunique()>=3:\n",
    "            list_for_dummies.append(feat_info.iloc[i]['attribute'])\n",
    "        elif df.iloc[:,i].nunique()==2 and df.iloc[:,i].unique().dtype=='O':\n",
    "            list_for_dummies.append(feat_info.iloc[i]['attribute'])\n",
    "    # delete the column names in list_for_dummies that are no longer in df_subset_2:\n",
    "    for colname in list_for_dummies:\n",
    "        if colname not in df_subset_2.columns:\n",
    "            list_for_dummies.remove(colname)\n",
    "    df_subset_2 = pd.get_dummies(df_subset_2,columns=list_for_dummies,dummy_na=True)\n",
    " \n",
    "    if 'PRAEGENDE_JUGENDJAHRE' in df_subset_2.columns:\n",
    "        df_subset_2['PRAEGENDE_JUGENDJAHRE_DECADE'] = df_subset_2.PRAEGENDE_JUGENDJAHRE.map({1:40,2:40,3:50,4:50,5:60,6:60,7:60,8:70,9:70,10:80,11:80,12:80,13:80,14:90,15:90})\n",
    "        df_subset_2['PRAEGENDE_JUGENDJAHRE_MOVEMENT'] = df_subset_2.PRAEGENDE_JUGENDJAHRE.map({1:0,2:1,3:0,4:1,5:0,6:1,7:1,8:0,9:1,10:0,11:1,12:0,13:1,14:0,15:1})\n",
    "        df_subset_2.drop(['PRAEGENDE_JUGENDJAHRE'],axis=1,inplace=True)          \n",
    "     # replace W and O in OST_WEST_KZ\n",
    "    if 'OST_WEST_KZ' in df_subset_2.columns:\n",
    "        df_subset_2 = df_subset_2.replace({'OST_WEST_KZ': {'W': 0, 'O':1}})\n",
    "    # Return the cleaned dataframe.\n",
    "    return(df_subset_2)    "
   ]
  },
  {
   "cell_type": "code",
   "execution_count": 25,
   "metadata": {
    "scrolled": true
   },
   "outputs": [
    {
     "name": "stderr",
     "output_type": "stream",
     "text": [
      "/opt/conda/lib/python3.6/site-packages/pandas/core/frame.py:3697: SettingWithCopyWarning: \n",
      "A value is trying to be set on a copy of a slice from a DataFrame\n",
      "\n",
      "See the caveats in the documentation: http://pandas.pydata.org/pandas-docs/stable/indexing.html#indexing-view-versus-copy\n",
      "  errors=errors)\n"
     ]
    }
   ],
   "source": [
    "azdias_rm_outlier_w_dummies_subset_2=clean_data(azdias,feat_info,0.2,0.2)"
   ]
  },
  {
   "cell_type": "markdown",
   "metadata": {},
   "source": [
    "## Step 2: Feature Transformation\n",
    "\n",
    "### Step 2.1: Apply Feature Scaling\n",
    "\n",
    "Before we apply dimensionality reduction techniques to the data, we need to perform feature scaling so that the principal component vectors are not influenced by the natural differences in scale for features. Starting from this part of the project, you'll want to keep an eye on the [API reference page for sklearn](http://scikit-learn.org/stable/modules/classes.html) to help you navigate to all of the classes and functions that you'll need. In this substep, you'll need to check the following:\n",
    "\n",
    "- sklearn requires that data not have missing values in order for its estimators to work properly. So, before applying the scaler to your data, make sure that you've cleaned the DataFrame of the remaining missing values. This can be as simple as just removing all data points with missing data, or applying an [Imputer](http://scikit-learn.org/stable/modules/generated/sklearn.preprocessing.Imputer.html) to replace all missing values. You might also try a more complicated procedure where you temporarily remove missing values in order to compute the scaling parameters before re-introducing those missing values and applying imputation. Think about how much missing data you have and what possible effects each approach might have on your analysis, and justify your decision in the discussion section below.\n",
    "- For the actual scaling function, a [StandardScaler](http://scikit-learn.org/stable/modules/generated/sklearn.preprocessing.StandardScaler.html) instance is suggested, scaling each feature to mean 0 and standard deviation 1.\n",
    "- For these classes, you can make use of the `.fit_transform()` method to both fit a procedure to the data as well as apply the transformation to the data at the same time. Don't forget to keep the fit sklearn objects handy, since you'll be applying them to the customer demographics data towards the end of the project."
   ]
  },
  {
   "cell_type": "code",
   "execution_count": 26,
   "metadata": {},
   "outputs": [],
   "source": [
    "# If you've not yet cleaned the dataset of all NaN values, then investigate and\n",
    "# do that now.\n",
    "# I've used multiple imputation in R, however, sklearn does not have the same functions right now,\n",
    "# \"from sklearn.impute import IterativeImputer is no longer available. \n",
    "# In this case, I'll use mean to do the imputation. \n",
    "fill_NaN = Imputer(missing_values = 'NaN', strategy = 'mean', axis = 0)\n",
    "azdias_imputed = pd.DataFrame(fill_NaN.fit_transform(azdias_rm_outlier_w_dummies_subset_2))\n",
    "azdias_imputed.columns = azdias_rm_outlier_w_dummies_subset_2.columns\n",
    "azdias_imputed.index = azdias_rm_outlier_w_dummies_subset_2.index"
   ]
  },
  {
   "cell_type": "code",
   "execution_count": 27,
   "metadata": {},
   "outputs": [],
   "source": [
    "# Apply feature scaling to the general population demographics data.\n",
    "scaler = StandardScaler()\n",
    "azdias_imputed_scaler = pd.DataFrame(scaler.fit_transform(azdias_imputed))\n",
    "azdias_imputed_scaler.columns = azdias_rm_outlier_w_dummies_subset_2.columns\n",
    "azdias_imputed_scaler.index = azdias_rm_outlier_w_dummies_subset_2.index"
   ]
  },
  {
   "cell_type": "markdown",
   "metadata": {},
   "source": [
    "### Discussion 2.1: Apply Feature Scaling\n",
    "\n",
    "(Double-click this cell and replace this text with your own text, reporting your decisions regarding feature scaling.)"
   ]
  },
  {
   "cell_type": "markdown",
   "metadata": {},
   "source": [
    "### Step 2.2: Perform Dimensionality Reduction\n",
    "\n",
    "On your scaled data, you are now ready to apply dimensionality reduction techniques.\n",
    "\n",
    "- Use sklearn's [PCA](http://scikit-learn.org/stable/modules/generated/sklearn.decomposition.PCA.html) class to apply principal component analysis on the data, thus finding the vectors of maximal variance in the data. To start, you should not set any parameters (so all components are computed) or set a number of components that is at least half the number of features (so there's enough features to see the general trend in variability).\n",
    "- Check out the ratio of variance explained by each principal component as well as the cumulative variance explained. Try plotting the cumulative or sequential values using matplotlib's [`plot()`](https://matplotlib.org/api/_as_gen/matplotlib.pyplot.plot.html) function. Based on what you find, select a value for the number of transformed features you'll retain for the clustering part of the project.\n",
    "- Once you've made a choice for the number of components to keep, make sure you re-fit a PCA instance to perform the decided-on transformation."
   ]
  },
  {
   "cell_type": "code",
   "execution_count": 28,
   "metadata": {},
   "outputs": [
    {
     "data": {
      "text/plain": [
       "PCA(copy=True, iterated_power='auto', n_components=None, random_state=None,\n",
       "  svd_solver='auto', tol=0.0, whiten=False)"
      ]
     },
     "execution_count": 28,
     "metadata": {},
     "output_type": "execute_result"
    }
   ],
   "source": [
    "# Apply PCA to the data.\n",
    "pca = PCA()\n",
    "pca.fit(azdias_imputed_scaler)"
   ]
  },
  {
   "cell_type": "code",
   "execution_count": 29,
   "metadata": {},
   "outputs": [
    {
     "data": {
      "image/png": "[encoded data removed]",
      "text/plain": [
       "<matplotlib.figure.Figure at 0x7f9028c71470>"
      ]
     },
     "metadata": {
      "needs_background": "light"
     },
     "output_type": "display_data"
    }
   ],
   "source": [
    "# Investigate the variance accounted for by each principal component.\n",
    "plt.plot(np.cumsum(pca.explained_variance_ratio_))\n",
    "plt.xlabel('number of components')\n",
    "plt.ylabel('cumulative explained variance');\n",
    "# the cumulative explained variance is over 90% when the number of components is 80. Thus, we can use 80. "
   ]
  },
  {
   "cell_type": "code",
   "execution_count": 30,
   "metadata": {},
   "outputs": [
    {
     "data": {
      "text/plain": [
       "PCA(copy=True, iterated_power='auto', n_components=80, random_state=None,\n",
       "  svd_solver='auto', tol=0.0, whiten=False)"
      ]
     },
     "execution_count": 30,
     "metadata": {},
     "output_type": "execute_result"
    }
   ],
   "source": [
    "# Re-apply PCA to the data while selecting for number of components to retain.\n",
    "azdias_pca_80= PCA(n_components=80)\n",
    "azdias_pca_80.fit(azdias_imputed_scaler)"
   ]
  },
  {
   "cell_type": "code",
   "execution_count": 31,
   "metadata": {},
   "outputs": [
    {
     "data": {
      "image/png": "[encoded data removed]",
      "text/plain": [
       "<matplotlib.figure.Figure at 0x7f902459c278>"
      ]
     },
     "metadata": {
      "needs_background": "light"
     },
     "output_type": "display_data"
    }
   ],
   "source": [
    "plt.plot(np.cumsum(azdias_pca_80.explained_variance_ratio_))\n",
    "plt.xlabel('number of components')\n",
    "plt.ylabel('cumulative explained variance');"
   ]
  },
  {
   "cell_type": "markdown",
   "metadata": {},
   "source": [
    "### Discussion 2.2: Perform Dimensionality Reduction\n",
    "\n",
    "(Double-click this cell and replace this text with your own text, reporting your findings and decisions regarding dimensionality reduction. How many principal components / transformed features are you retaining for the next step of the analysis?)<br>\n",
    "\n",
    "By performing the principal component analysis on all 164 columns of the standardized data, the cumulative percentage of explained variance reached over 90% at the 80th components. Therefore, 80 components were retained for the next step of the analysis."
   ]
  },
  {
   "cell_type": "markdown",
   "metadata": {},
   "source": [
    "### Step 2.3: Interpret Principal Components\n",
    "\n",
    "Now that we have our transformed principal components, it's a nice idea to check out the weight of each variable on the first few components to see if they can be interpreted in some fashion.\n",
    "\n",
    "As a reminder, each principal component is a unit vector that points in the direction of highest variance (after accounting for the variance captured by earlier principal components). The further a weight is from zero, the more the principal component is in the direction of the corresponding feature. If two features have large weights of the same sign (both positive or both negative), then increases in one tend expect to be associated with increases in the other. To contrast, features with different signs can be expected to show a negative correlation: increases in one variable should result in a decrease in the other.\n",
    "\n",
    "- To investigate the features, you should map each weight to their corresponding feature name, then sort the features according to weight. The most interesting features for each principal component, then, will be those at the beginning and end of the sorted list. Use the data dictionary document to help you understand these most prominent features, their relationships, and what a positive or negative value on the principal component might indicate.\n",
    "- You should investigate and interpret feature associations from the first three principal components in this substep. To help facilitate this, you should write a function that you can call at any time to print the sorted list of feature weights, for the *i*-th principal component. This might come in handy in the next step of the project, when you interpret the tendencies of the discovered clusters."
   ]
  },
  {
   "cell_type": "code",
   "execution_count": 32,
   "metadata": {},
   "outputs": [
    {
     "data": {
      "text/plain": [
       "LP_STATUS_GROB_1.0                0.195976\n",
       "PLZ8_ANTG3                        0.185036\n",
       "HH_EINKOMMEN_SCORE                0.183554\n",
       "PLZ8_ANTG4                        0.180051\n",
       "CAMEO_INTL_2015                   0.175852\n",
       "PLZ8_BAUMAX                       0.175478\n",
       "ORTSGR_KLS9                       0.159402\n",
       "EWDICHTE                          0.157352\n",
       "FINANZ_HAUSBAUER                  0.151996\n",
       "KBA05_ANTG4                       0.128644\n",
       "LP_STATUS_FEIN_1.0                0.127678\n",
       "PLZ8_ANTG2                        0.125590\n",
       "ANZ_HAUSHALTE_AKTIV               0.116645\n",
       "ARBEIT                            0.116094\n",
       "LP_STATUS_FEIN_2.0                0.115444\n",
       "KBA05_ANTG3                       0.114821\n",
       "FINANZ_SPARER                     0.111433\n",
       "FINANZTYP_1.0                     0.111426\n",
       "CAMEO_DEUG_2015_9                 0.108920\n",
       "RELAT_AB                          0.108341\n",
       "LP_FAMILIE_GROB_1.0               0.094068\n",
       "LP_FAMILIE_FEIN_1.0               0.094068\n",
       "CAMEO_DEUG_2015_8                 0.089808\n",
       "SEMIO_PFLICHT                     0.081015\n",
       "SEMIO_REL                         0.076852\n",
       "ZABEOTYP_5.0                      0.075344\n",
       "PRAEGENDE_JUGENDJAHRE_DECADE      0.069007\n",
       "GEBAEUDETYP_3.0                   0.068684\n",
       "SEMIO_RAT                         0.067616\n",
       "REGIOTYP                          0.059076\n",
       "GFK_URLAUBERTYP_12.0              0.058680\n",
       "SEMIO_TRADV                       0.056468\n",
       "SEMIO_MAT                         0.052581\n",
       "FINANZ_ANLEGER                    0.051552\n",
       "W_KEIT_KIND_HH                    0.050609\n",
       "SEMIO_FAM                         0.049649\n",
       "FINANZ_UNAUFFAELLIGER             0.048842\n",
       "OST_WEST_KZ_O                     0.045942\n",
       "NATIONALITAET_KZ_2.0              0.045457\n",
       "GEBAEUDETYP_8.0                   0.044491\n",
       "SEMIO_KULT                        0.042015\n",
       "SEMIO_KAEM                        0.041097\n",
       "ZABEOTYP_6.0                      0.038843\n",
       "SHOPPER_TYP_nan                   0.036786\n",
       "NATIONALITAET_KZ_nan              0.036437\n",
       "KKK                               0.035948\n",
       "PLZ8_HHZ                          0.035307\n",
       "ZABEOTYP_4.0                      0.034532\n",
       "SHOPPER_TYP_2.0                   0.033437\n",
       "CAMEO_DEUG_2015_7                 0.031702\n",
       "                                    ...   \n",
       "GFK_URLAUBERTYP_6.0              -0.028064\n",
       "FINANZTYP_6.0                    -0.028426\n",
       "LP_FAMILIE_FEIN_2.0              -0.028970\n",
       "LP_FAMILIE_GROB_2.0              -0.028970\n",
       "LP_FAMILIE_GROB_4.0              -0.032681\n",
       "SHOPPER_TYP_3.0                  -0.032753\n",
       "GFK_URLAUBERTYP_7.0              -0.038600\n",
       "CJT_GESAMTTYP_2.0                -0.042025\n",
       "CAMEO_DEUG_2015_1                -0.044334\n",
       "SEMIO_VERT                       -0.044394\n",
       "SEMIO_ERL                        -0.044416\n",
       "OST_WEST_KZ_W                    -0.045942\n",
       "SEMIO_LUST                       -0.046730\n",
       "MIN_GEBAEUDEJAHR                 -0.049441\n",
       "LP_FAMILIE_FEIN_10.0             -0.049498\n",
       "ZABEOTYP_2.0                     -0.050357\n",
       "LP_FAMILIE_FEIN_11.0             -0.050606\n",
       "WOHNDAUER_2008                   -0.052249\n",
       "FINANZTYP_3.0                    -0.054547\n",
       "ONLINE_AFFINITAET                -0.058376\n",
       "CAMEO_DEUG_2015_3                -0.062215\n",
       "KBA13_ANZAHL_PKW                 -0.062570\n",
       "WOHNLAGE                         -0.065653\n",
       "NATIONALITAET_KZ_1.0             -0.066721\n",
       "CAMEO_DEUG_2015_4                -0.071305\n",
       "LP_FAMILIE_GROB_5.0              -0.073046\n",
       "FINANZTYP_2.0                    -0.077084\n",
       "ALTERSKATEGORIE_GROB             -0.080928\n",
       "FINANZ_VORSORGER                 -0.081603\n",
       "CAMEO_DEUG_2015_2                -0.085557\n",
       "ANZ_PERSONEN                     -0.090117\n",
       "GEBAEUDETYP_1.0                  -0.090287\n",
       "ZABEOTYP_1.0                     -0.096970\n",
       "GEBAEUDETYP_RASTER               -0.099120\n",
       "PRAEGENDE_JUGENDJAHRE_MOVEMENT   -0.099438\n",
       "BALLRAUM                         -0.099812\n",
       "GREEN_AVANTGARDE                 -0.102030\n",
       "LP_STATUS_FEIN_9.0               -0.112121\n",
       "LP_STATUS_FEIN_10.0              -0.112850\n",
       "LP_STATUS_GROB_5.0               -0.112850\n",
       "LP_STATUS_GROB_4.0               -0.114031\n",
       "LP_LEBENSPHASE_GROB              -0.124139\n",
       "INNENSTADT                       -0.131074\n",
       "PLZ8_GBZ                         -0.136480\n",
       "KONSUMNAEHE                      -0.138360\n",
       "KBA05_GBZ                        -0.182739\n",
       "PLZ8_ANTG1                       -0.185340\n",
       "FINANZ_MINIMALIST                -0.190613\n",
       "KBA05_ANTG1                      -0.191727\n",
       "MOBI_REGIO                       -0.205079\n",
       "Name: 0, Length: 164, dtype: float64"
      ]
     },
     "execution_count": 32,
     "metadata": {},
     "output_type": "execute_result"
    }
   ],
   "source": [
    "# Map weights for the first principal component to corresponding feature names\n",
    "# and then print the linked values, sorted by weight.\n",
    "# HINT: Try defining a function here or in a new cell that you can reuse in the\n",
    "# other cells.\n",
    "\n",
    "def get_weights(pca_file,pc_no):\n",
    "    df = pd.DataFrame(pca_file.components_,columns=list(azdias_imputed_scaler.columns))\n",
    "    weight=df.iloc[pc_no-1].sort_values(ascending=False)\n",
    "    return (weight)\n",
    "# weights mapped to the first principal component:\n",
    "get_weights(azdias_pca_80,1)\n"
   ]
  },
  {
   "cell_type": "code",
   "execution_count": 33,
   "metadata": {},
   "outputs": [
    {
     "data": {
      "text/plain": [
       "ALTERSKATEGORIE_GROB            0.234855\n",
       "FINANZ_VORSORGER                0.220516\n",
       "ZABEOTYP_3.0                    0.199492\n",
       "SEMIO_ERL                       0.179801\n",
       "SEMIO_LUST                      0.163461\n",
       "RETOURTYP_BK_S                  0.155578\n",
       "W_KEIT_KIND_HH                  0.128122\n",
       "CJT_GESAMTTYP_2.0               0.109295\n",
       "FINANZTYP_5.0                   0.098216\n",
       "FINANZ_MINIMALIST               0.093548\n",
       "FINANZTYP_2.0                   0.093437\n",
       "LP_STATUS_FEIN_1.0              0.093423\n",
       "FINANZ_HAUSBAUER                0.082131\n",
       "SHOPPER_TYP_3.0                 0.074851\n",
       "SEMIO_KRIT                      0.071532\n",
       "CJT_GESAMTTYP_1.0               0.071172\n",
       "NATIONALITAET_KZ_1.0            0.070070\n",
       "FINANZTYP_6.0                   0.068873\n",
       "PLZ8_ANTG3                      0.061592\n",
       "EWDICHTE                        0.061337\n",
       "ORTSGR_KLS9                     0.060725\n",
       "LP_FAMILIE_GROB_1.0             0.060073\n",
       "LP_FAMILIE_FEIN_1.0             0.060073\n",
       "GFK_URLAUBERTYP_4.0             0.058651\n",
       "PLZ8_ANTG4                      0.058580\n",
       "CAMEO_INTL_2015                 0.055317\n",
       "PLZ8_BAUMAX                     0.055264\n",
       "SEMIO_KAEM                      0.055052\n",
       "WOHNDAUER_2008                  0.055052\n",
       "LP_STATUS_FEIN_3.0              0.050689\n",
       "ARBEIT                          0.047393\n",
       "KBA05_ANTG4                     0.046202\n",
       "ANZ_HAUSHALTE_AKTIV             0.044070\n",
       "RELAT_AB                        0.043968\n",
       "GFK_URLAUBERTYP_7.0             0.043156\n",
       "PLZ8_ANTG2                      0.042649\n",
       "ANREDE_KZ                       0.037064\n",
       "LP_FAMILIE_FEIN_2.0             0.036968\n",
       "LP_FAMILIE_GROB_2.0             0.036968\n",
       "CAMEO_DEUG_2015_8               0.033842\n",
       "HH_EINKOMMEN_SCORE              0.033746\n",
       "GFK_URLAUBERTYP_3.0             0.030290\n",
       "SEMIO_DOM                       0.026465\n",
       "KBA05_ANTG3                     0.025843\n",
       "GFK_URLAUBERTYP_5.0             0.025277\n",
       "ANZ_HH_TITEL                    0.024169\n",
       "VERS_TYP                        0.023529\n",
       "ZABEOTYP_6.0                    0.022752\n",
       "GFK_URLAUBERTYP_8.0             0.022158\n",
       "OST_WEST_KZ_O                   0.021013\n",
       "                                  ...   \n",
       "CJT_GESAMTTYP_3.0              -0.035918\n",
       "CJT_GESAMTTYP_5.0              -0.036047\n",
       "LP_FAMILIE_FEIN_6.0            -0.037463\n",
       "WOHNLAGE                       -0.037635\n",
       "LP_FAMILIE_FEIN_8.0            -0.037874\n",
       "GFK_URLAUBERTYP_12.0           -0.039244\n",
       "BALLRAUM                       -0.039338\n",
       "MIN_GEBAEUDEJAHR               -0.041920\n",
       "LP_FAMILIE_FEIN_7.0            -0.043939\n",
       "CJT_GESAMTTYP_6.0              -0.044195\n",
       "GFK_URLAUBERTYP_2.0            -0.044248\n",
       "NATIONALITAET_KZ_2.0           -0.045069\n",
       "LP_FAMILIE_GROB_5.0            -0.046228\n",
       "KONSUMNAEHE                    -0.047650\n",
       "LP_FAMILIE_GROB_3.0            -0.047955\n",
       "PLZ8_GBZ                       -0.048271\n",
       "SHOPPER_TYP_0.0                -0.048473\n",
       "INNENSTADT                     -0.048543\n",
       "NATIONALITAET_KZ_3.0           -0.048997\n",
       "KBA05_ANTG1                    -0.050072\n",
       "LP_LEBENSPHASE_GROB            -0.050624\n",
       "HEALTH_TYP                     -0.052080\n",
       "CJT_GESAMTTYP_4.0              -0.054913\n",
       "ZABEOTYP_1.0                   -0.056788\n",
       "MOBI_REGIO                     -0.057039\n",
       "KBA05_GBZ                      -0.057094\n",
       "PLZ8_ANTG1                     -0.060384\n",
       "SEMIO_SOZ                      -0.061309\n",
       "ANZ_PERSONEN                   -0.066261\n",
       "LP_FAMILIE_GROB_4.0            -0.069466\n",
       "GFK_URLAUBERTYP_9.0            -0.073626\n",
       "FINANZTYP_3.0                  -0.074173\n",
       "LP_STATUS_FEIN_5.0             -0.080947\n",
       "FINANZTYP_4.0                  -0.088239\n",
       "ZABEOTYP_5.0                   -0.091403\n",
       "LP_STATUS_FEIN_2.0             -0.096567\n",
       "ZABEOTYP_4.0                   -0.107544\n",
       "SEMIO_MAT                      -0.131338\n",
       "SEMIO_FAM                      -0.134083\n",
       "FINANZTYP_1.0                  -0.135820\n",
       "ONLINE_AFFINITAET              -0.161142\n",
       "SEMIO_KULT                     -0.164610\n",
       "SEMIO_RAT                      -0.170755\n",
       "FINANZ_ANLEGER                 -0.205959\n",
       "SEMIO_PFLICHT                  -0.207856\n",
       "SEMIO_TRADV                    -0.208517\n",
       "SEMIO_REL                      -0.216418\n",
       "FINANZ_UNAUFFAELLIGER          -0.216769\n",
       "FINANZ_SPARER                  -0.230051\n",
       "PRAEGENDE_JUGENDJAHRE_DECADE   -0.239186\n",
       "Name: 1, Length: 164, dtype: float64"
      ]
     },
     "execution_count": 33,
     "metadata": {},
     "output_type": "execute_result"
    }
   ],
   "source": [
    "# Map weights for the second principal component to corresponding feature names\n",
    "# and then print the linked values, sorted by weight.\n",
    "get_weights(azdias_pca_80,2)"
   ]
  },
  {
   "cell_type": "code",
   "execution_count": 34,
   "metadata": {},
   "outputs": [
    {
     "data": {
      "text/plain": [
       "SEMIO_VERT                        0.318829\n",
       "SEMIO_FAM                         0.258288\n",
       "SEMIO_SOZ                         0.257305\n",
       "SEMIO_KULT                        0.250798\n",
       "FINANZTYP_5.0                     0.134526\n",
       "FINANZ_MINIMALIST                 0.128800\n",
       "SHOPPER_TYP_0.0                   0.123277\n",
       "ZABEOTYP_1.0                      0.117796\n",
       "SEMIO_REL                         0.110360\n",
       "SEMIO_MAT                         0.088767\n",
       "GREEN_AVANTGARDE                  0.079710\n",
       "PRAEGENDE_JUGENDJAHRE_MOVEMENT    0.076399\n",
       "RETOURTYP_BK_S                    0.070379\n",
       "ORTSGR_KLS9                       0.068285\n",
       "EWDICHTE                          0.067296\n",
       "W_KEIT_KIND_HH                    0.061144\n",
       "LP_STATUS_GROB_5.0                0.056118\n",
       "LP_STATUS_FEIN_10.0               0.056118\n",
       "SHOPPER_TYP_1.0                   0.055544\n",
       "PLZ8_BAUMAX                       0.054164\n",
       "PLZ8_ANTG4                        0.052133\n",
       "PLZ8_ANTG3                        0.051706\n",
       "ZABEOTYP_6.0                      0.048010\n",
       "LP_STATUS_FEIN_3.0                0.045647\n",
       "FINANZ_VORSORGER                  0.043639\n",
       "LP_STATUS_FEIN_1.0                0.043288\n",
       "RELAT_AB                          0.037107\n",
       "PLZ8_ANTG2                        0.036836\n",
       "ARBEIT                            0.036636\n",
       "LP_STATUS_GROB_3.0                0.032767\n",
       "NATIONALITAET_KZ_2.0              0.030505\n",
       "GEBAEUDETYP_3.0                   0.030435\n",
       "GFK_URLAUBERTYP_4.0               0.027094\n",
       "LP_FAMILIE_FEIN_2.0               0.024049\n",
       "LP_FAMILIE_GROB_2.0               0.024049\n",
       "LP_STATUS_FEIN_6.0                0.023919\n",
       "KBA05_ANTG4                       0.023588\n",
       "LP_STATUS_FEIN_7.0                0.023582\n",
       "ANZ_HAUSHALTE_AKTIV               0.021602\n",
       "CAMEO_DEUG_2015_9                 0.020783\n",
       "FINANZTYP_3.0                     0.020379\n",
       "NATIONALITAET_KZ_1.0              0.020038\n",
       "CJT_GESAMTTYP_4.0                 0.018383\n",
       "WOHNDAUER_2008                    0.017378\n",
       "SEMIO_LUST                        0.016452\n",
       "CJT_GESAMTTYP_1.0                 0.015984\n",
       "CAMEO_INTL_2015                   0.015972\n",
       "CAMEO_DEUG_2015_1                 0.015109\n",
       "ANZ_HH_TITEL                      0.014271\n",
       "FINANZTYP_4.0                     0.013548\n",
       "                                    ...   \n",
       "GFK_URLAUBERTYP_12.0             -0.016833\n",
       "LP_STATUS_GROB_1.0               -0.017902\n",
       "KBA05_GBZ                        -0.020647\n",
       "KBA13_ANZAHL_PKW                 -0.021493\n",
       "REGIOTYP                         -0.022590\n",
       "ZABEOTYP_5.0                     -0.022826\n",
       "LP_STATUS_FEIN_5.0               -0.023904\n",
       "MOBI_REGIO                       -0.024069\n",
       "SEMIO_PFLICHT                    -0.024329\n",
       "CAMEO_DEUG_2015_4                -0.024886\n",
       "LP_FAMILIE_FEIN_3.0              -0.026020\n",
       "LP_FAMILIE_FEIN_5.0              -0.027061\n",
       "GFK_URLAUBERTYP_9.0              -0.027083\n",
       "CJT_GESAMTTYP_6.0                -0.027284\n",
       "FINANZTYP_2.0                    -0.028311\n",
       "NATIONALITAET_KZ_3.0             -0.028717\n",
       "GEBAEUDETYP_1.0                  -0.029428\n",
       "CJT_GESAMTTYP_2.0                -0.029984\n",
       "LP_STATUS_GROB_2.0               -0.032457\n",
       "PLZ8_GBZ                         -0.036929\n",
       "LP_FAMILIE_FEIN_4.0              -0.038287\n",
       "KKK                              -0.038350\n",
       "HH_EINKOMMEN_SCORE               -0.039595\n",
       "GEBAEUDETYP_RASTER               -0.040706\n",
       "ZABEOTYP_3.0                     -0.040904\n",
       "FINANZ_UNAUFFAELLIGER            -0.045030\n",
       "WOHNLAGE                         -0.045112\n",
       "PRAEGENDE_JUGENDJAHRE_DECADE     -0.045794\n",
       "PLZ8_ANTG1                       -0.048826\n",
       "KONSUMNAEHE                      -0.049034\n",
       "NATIONALITAET_KZ_nan             -0.049762\n",
       "SHOPPER_TYP_nan                  -0.049820\n",
       "SHOPPER_TYP_3.0                  -0.050176\n",
       "BALLRAUM                         -0.052789\n",
       "LP_FAMILIE_GROB_3.0              -0.053481\n",
       "FINANZ_SPARER                    -0.054273\n",
       "INNENSTADT                       -0.059509\n",
       "ZABEOTYP_4.0                     -0.061316\n",
       "FINANZ_HAUSBAUER                 -0.063302\n",
       "LP_STATUS_FEIN_4.0               -0.075046\n",
       "LP_STATUS_FEIN_2.0               -0.080099\n",
       "SHOPPER_TYP_2.0                  -0.090155\n",
       "FINANZTYP_1.0                    -0.100754\n",
       "SEMIO_RAT                        -0.152031\n",
       "FINANZ_ANLEGER                   -0.152735\n",
       "SEMIO_ERL                        -0.209559\n",
       "SEMIO_KRIT                       -0.266371\n",
       "SEMIO_DOM                        -0.278841\n",
       "SEMIO_KAEM                       -0.312198\n",
       "ANREDE_KZ                        -0.342965\n",
       "Name: 2, Length: 164, dtype: float64"
      ]
     },
     "execution_count": 34,
     "metadata": {},
     "output_type": "execute_result"
    }
   ],
   "source": [
    "# Map weights for the third principal component to corresponding feature names\n",
    "# and then print the linked values, sorted by weight.\n",
    "get_weights(azdias_pca_80,3)"
   ]
  },
  {
   "cell_type": "markdown",
   "metadata": {},
   "source": [
    "### Discussion 2.3: Interpret Principal Components\n",
    "\n",
    "(Double-click this cell and replace this text with your own text, reporting your observations from detailed investigation of the first few principal components generated. Can we interpret positive and negative values from them in a meaningful way?) <br>\n",
    "1. In the first component analysis, LP_STATUS_GROB_1.0 has the most positive value 0.195976 while MOBI_REGIO has the most negative value -0.205079. LP_STATUS_GROB_1.0 is the dummy variable of LP_STATUS_GROB (Social status, rough scale) when it equals to 1: low-income earners. Therefore, LP_STATUS_GROB_1.0 has two levels: 1 -- it's a low-income earner and 0 -- it's not a low-income earner. The larger value means lower income. MOBI_REGIO talks about movement patterns. The higher the numbers, the less movements the family has.  LP_STATUS_GROB_1.0 of 0.195976 and MOBI_REGIO of -0.205079 show that low income earners tend to move more. \n",
    "2. Also in the first component analysis, PLZ8_ANTG3 of 0.185036 and HH_EINKOMMEN_SCORE of 0.183554 shows that the higher the share of 6-10 family homes in the region (PLZ8_ANTG3), the lower the estimated household net income (HH_EINKOMMEN_SCORE). \n",
    "3. In the second component analysis, FINANZ_SPARER of -0.230051 and PRAEGENDE_JUGENDJAHRE_DECADE of -0.239185 shows that the younger the generation, the lower possibility of being a money-saver.\n",
    "4. In the third component, SEMIO_VERT of 0.318829 and SEMIO_FAM of 0.258288 shows that dreamful and family-minded personalities come together. \n"
   ]
  },
  {
   "cell_type": "markdown",
   "metadata": {},
   "source": [
    "## Step 3: Clustering\n",
    "\n",
    "### Step 3.1: Apply Clustering to General Population\n",
    "\n",
    "You've assessed and cleaned the demographics data, then scaled and transformed them. Now, it's time to see how the data clusters in the principal components space. In this substep, you will apply k-means clustering to the dataset and use the average within-cluster distances from each point to their assigned cluster's centroid to decide on a number of clusters to keep.\n",
    "\n",
    "- Use sklearn's [KMeans](http://scikit-learn.org/stable/modules/generated/sklearn.cluster.KMeans.html#sklearn.cluster.KMeans) class to perform k-means clustering on the PCA-transformed data.\n",
    "- Then, compute the average difference from each point to its assigned cluster's center. **Hint**: The KMeans object's `.score()` method might be useful here, but note that in sklearn, scores tend to be defined so that larger is better. Try applying it to a small, toy dataset, or use an internet search to help your understanding.\n",
    "- Perform the above two steps for a number of different cluster counts. You can then see how the average distance decreases with an increasing number of clusters. However, each additional cluster provides a smaller net benefit. Use this fact to select a final number of clusters in which to group the data. **Warning**: because of the large size of the dataset, it can take a long time for the algorithm to resolve. The more clusters to fit, the longer the algorithm will take. You should test for cluster counts through at least 10 clusters to get the full picture, but you shouldn't need to test for a number of clusters above about 30.\n",
    "- Once you've selected a final number of clusters to use, re-fit a KMeans instance to perform the clustering operation. Make sure that you also obtain the cluster assignments for the general demographics data, since you'll be using them in the final Step 3.3."
   ]
  },
  {
   "cell_type": "code",
   "execution_count": 35,
   "metadata": {},
   "outputs": [],
   "source": [
    "azdias_PCA_transformed = azdias_pca_80.transform(azdias_imputed_scaler)"
   ]
  },
  {
   "cell_type": "code",
   "execution_count": 36,
   "metadata": {},
   "outputs": [],
   "source": [
    "# Over a number of different cluster counts... \n",
    "# run k-means clustering on the data and...\n",
    "# compute the average within-cluster distances. I used Attributes \"inertia_\" to calculate Sum of squared distances of \n",
    "# samples to their closest cluster center, which I believe is a more straightforward way that can do the same job.\n",
    "\n",
    "sse = []\n",
    "list_k = list(range(1, 20))\n",
    "for k in list_k:\n",
    "    km = KMeans(n_clusters=k,random_state=0)\n",
    "    km.fit(azdias_PCA_transformed)\n",
    "    sse.append(km.inertia_)"
   ]
  },
  {
   "cell_type": "code",
   "execution_count": 37,
   "metadata": {},
   "outputs": [
    {
     "data": {
      "text/plain": [
       "Text(0,0.5,'Sum of squared distance')"
      ]
     },
     "execution_count": 37,
     "metadata": {},
     "output_type": "execute_result"
    },
    {
     "data": {
      "image/png": "[encoded data removed]",
      "text/plain": [
       "<matplotlib.figure.Figure at 0x7f9024c24940>"
      ]
     },
     "metadata": {
      "needs_background": "light"
     },
     "output_type": "display_data"
    }
   ],
   "source": [
    "# Investigate the change in within-cluster distance across number of clusters.\n",
    "# HINT: Use matplotlib's plot function to visualize this relationship.\n",
    "# Plot sse against k\n",
    "plt.figure(figsize=(6, 6))\n",
    "plt.plot(list_k, sse, '-o')\n",
    "plt.xlabel(r'Number of clusters *k*')\n",
    "plt.ylabel('Sum of squared distance')"
   ]
  },
  {
   "cell_type": "code",
   "execution_count": 38,
   "metadata": {},
   "outputs": [],
   "source": [
    "# Re-fit the k-means model with the selected number of clusters and obtain\n",
    "# cluster predictions for the general population demographics data.\n",
    "azdias_km = KMeans(n_clusters=18,random_state=0)"
   ]
  },
  {
   "cell_type": "markdown",
   "metadata": {},
   "source": [
    "### Discussion 3.1: Apply Clustering to General Population\n",
    "\n",
    "(Double-click this cell and replace this text with your own text, reporting your findings and decisions regarding clustering. Into how many clusters have you decided to segment the population?)"
   ]
  },
  {
   "cell_type": "markdown",
   "metadata": {},
   "source": [
    "### Step 3.2: Apply All Steps to the Customer Data\n",
    "\n",
    "Now that you have clusters and cluster centers for the general population, it's time to see how the customer data maps on to those clusters. Take care to not confuse this for re-fitting all of the models to the customer data. Instead, you're going to use the fits from the general population to clean, transform, and cluster the customer data. In the last step of the project, you will interpret how the general population fits apply to the customer data.\n",
    "\n",
    "- Don't forget when loading in the customers data, that it is semicolon (`;`) delimited.\n",
    "- Apply the same feature wrangling, selection, and engineering steps to the customer demographics using the `clean_data()` function you created earlier. (You can assume that the customer demographics data has similar meaning behind missing data patterns as the general demographics data.)\n",
    "- Use the sklearn objects from the general demographics data, and apply their transformations to the customers data. That is, you should not be using a `.fit()` or `.fit_transform()` method to re-fit the old objects, nor should you be creating new sklearn objects! Carry the data through the feature scaling, PCA, and clustering steps, obtaining cluster assignments for all of the data in the customer demographics data."
   ]
  },
  {
   "cell_type": "code",
   "execution_count": 39,
   "metadata": {},
   "outputs": [],
   "source": [
    "# Load in the customer demographics data.\n",
    "customers = pd.read_csv(\"Udacity_CUSTOMERS_Subset.csv\",sep=\";\")"
   ]
  },
  {
   "cell_type": "code",
   "execution_count": 40,
   "metadata": {},
   "outputs": [
    {
     "name": "stderr",
     "output_type": "stream",
     "text": [
      "/opt/conda/lib/python3.6/site-packages/pandas/core/frame.py:3697: SettingWithCopyWarning: \n",
      "A value is trying to be set on a copy of a slice from a DataFrame\n",
      "\n",
      "See the caveats in the documentation: http://pandas.pydata.org/pandas-docs/stable/indexing.html#indexing-view-versus-copy\n",
      "  errors=errors)\n"
     ]
    },
    {
     "data": {
      "image/png": "[encoded data removed]",
      "text/plain": [
       "<matplotlib.figure.Figure at 0x7f9026b8e828>"
      ]
     },
     "metadata": {
      "needs_background": "light"
     },
     "output_type": "display_data"
    }
   ],
   "source": [
    "# Apply preprocessing, feature transformation, and clustering from the general\n",
    "# demographics onto the customer data, obtaining cluster predictions for the\n",
    "# customer demographics data.\n",
    "customers_clean = clean_data(customers,feat_info,0.2,0.3)\n",
    "\n",
    "# imputation:\n",
    "fill_NaN = Imputer(missing_values = 'NaN', strategy = 'mean', axis = 0)\n",
    "customers_imputed_DF = pd.DataFrame(fill_NaN.fit_transform(customers_clean))\n",
    "customers_imputed_DF.columns = customers_clean.columns\n",
    "customers_imputed_DF.index = customers_clean.index\n",
    "\n",
    "# Apply feature scaling to the customer demographics data.\n",
    "scaler = StandardScaler()\n",
    "customers_imputed_scaler = pd.DataFrame(scaler.fit_transform(customers_imputed_DF))\n",
    "customers_imputed_scaler.columns = customers_clean.columns\n",
    "customers_imputed_scaler.index = customers_clean.index\n",
    "\n",
    "# Apply PCA to the data.\n",
    "pca = PCA()\n",
    "pca.fit(customers_imputed_scaler)\n",
    "\n",
    "# Investigate the variance accounted for by each principal component.\n",
    "plt.plot(np.cumsum(pca.explained_variance_ratio_))\n",
    "plt.xlabel('number of components')\n",
    "plt.ylabel('cumulative explained variance');\n"
   ]
  },
  {
   "cell_type": "code",
   "execution_count": 41,
   "metadata": {},
   "outputs": [
    {
     "data": {
      "image/png": "[encoded data removed]",
      "text/plain": [
       "<matplotlib.figure.Figure at 0x7f90246a0080>"
      ]
     },
     "metadata": {
      "needs_background": "light"
     },
     "output_type": "display_data"
    }
   ],
   "source": [
    "# Re-apply PCA to the data while selecting for number of components to retain.\n",
    "customers_pca_80 = PCA(n_components=80)\n",
    "customers_pca_80.fit(customers_imputed_scaler)\n",
    "\n",
    "plt.plot(np.cumsum(customers_pca_80.explained_variance_ratio_))\n",
    "plt.xlabel('number of components')\n",
    "plt.ylabel('cumulative explained variance');"
   ]
  },
  {
   "cell_type": "code",
   "execution_count": 42,
   "metadata": {},
   "outputs": [
    {
     "data": {
      "text/plain": [
       "Text(0,0.5,'Sum of squared distance')"
      ]
     },
     "execution_count": 42,
     "metadata": {},
     "output_type": "execute_result"
    },
    {
     "data": {
      "image/png": "[encoded data removed]",
      "text/plain": [
       "<matplotlib.figure.Figure at 0x7f9024a70160>"
      ]
     },
     "metadata": {
      "needs_background": "light"
     },
     "output_type": "display_data"
    }
   ],
   "source": [
    "def get_weights(pca_file,pc_no):\n",
    "    df = pd.DataFrame(pca_file.components_,columns=list(customers_imputed_scaler.columns))\n",
    "    weight=df.iloc[pc_no-1].sort_values(ascending=False)\n",
    "    return (weight)\n",
    "# weights mapped to the first principal component:\n",
    "get_weights(customers_pca_80,1)\n",
    "\n",
    "## do not rerun right now, keep it as it is.\n",
    "customers_PCA_transformed = customers_pca_80.transform(customers_imputed_scaler)\n",
    "# Over a number of different cluster counts... \n",
    "# run k-means clustering on the data and...\n",
    "# compute the average within-cluster distances. I used Attributes \"inertia_\" to calculate Sum of squared distances of \n",
    "# samples to their closest cluster center, which I believe is a more straightforward way that can do the same job.\n",
    "sse = []\n",
    "list_k = list(range(1, 20))\n",
    "for k in list_k:\n",
    "    km = KMeans(n_clusters=k,random_state=0)\n",
    "    km.fit(customers_PCA_transformed)\n",
    "    sse.append(km.inertia_)\n",
    "# Plot sse against k\n",
    "plt.figure(figsize=(6, 6))\n",
    "plt.plot(list_k, sse, '-o')\n",
    "plt.xlabel(r'Number of clusters *k*')\n",
    "plt.ylabel('Sum of squared distance')\n",
    "# Looks like even at 29 clusters, it's still not getting to the elbow point. However, we're not going any further. 29 clusters will be chosen."
   ]
  },
  {
   "cell_type": "markdown",
   "metadata": {},
   "source": [
    "# Step 3.3: Compare Customer Data to Demographics Data\n",
    "\n",
    "At this point, you have clustered data based on demographics of the general population of Germany, and seen how the customer data for a mail-order sales company maps onto those demographic clusters. In this final substep, you will compare the two cluster distributions to see where the strongest customer base for the company is.\n",
    "\n",
    "Consider the proportion of persons in each cluster for the general population, and the proportions for the customers. If we think the company's customer base to be universal, then the cluster assignment proportions should be fairly similar between the two. If there are only particular segments of the population that are interested in the company's products, then we should see a mismatch from one to the other. If there is a higher proportion of persons in a cluster for the customer data compared to the general population (e.g. 5% of persons are assigned to a cluster for the general population, but 15% of the customer data is closest to that cluster's centroid) then that suggests the people in that cluster to be a target audience for the company. On the other hand, the proportion of the data in a cluster being larger in the general population than the customer data (e.g. only 2% of customers closest to a population centroid that captures 6% of the data) suggests that group of persons to be outside of the target demographics.\n",
    "\n",
    "Take a look at the following points in this step:\n",
    "\n",
    "- Compute the proportion of data points in each cluster for the general population and the customer data. Visualizations will be useful here: both for the individual dataset proportions, but also to visualize the ratios in cluster representation between groups. Seaborn's [`countplot()`](https://seaborn.pydata.org/generated/seaborn.countplot.html) or [`barplot()`](https://seaborn.pydata.org/generated/seaborn.barplot.html) function could be handy.\n",
    "  - Recall the analysis you performed in step 1.1.3 of the project, where you separated out certain data points from the dataset if they had more than a specified threshold of missing values. If you found that this group was qualitatively different from the main bulk of the data, you should treat this as an additional data cluster in this analysis. Make sure that you account for the number of data points in this subset, for both the general population and customer datasets, when making your computations!\n",
    "- Which cluster or clusters are overrepresented in the customer dataset compared to the general population? Select at least one such cluster and infer what kind of people might be represented by that cluster. Use the principal component interpretations from step 2.3 or look at additional components to help you make this inference. Alternatively, you can use the `.inverse_transform()` method of the PCA and StandardScaler objects to transform centroids back to the original data space and interpret the retrieved values directly.\n",
    "- Perform a similar investigation for the underrepresented clusters. Which cluster or clusters are underrepresented in the customer dataset compared to the general population, and what kinds of people are typified by these clusters?"
   ]
  },
  {
   "cell_type": "code",
   "execution_count": 56,
   "metadata": {},
   "outputs": [],
   "source": [
    "customers_km = KMeans(n_clusters=18,random_state=0)\n",
    "customers_km.fit(customers_PCA_transformed)\n",
    "customers_imputed_scaler['cluster'] = customers_km.labels_"
   ]
  },
  {
   "cell_type": "code",
   "execution_count": 57,
   "metadata": {},
   "outputs": [],
   "source": [
    "azdias_km = KMeans(n_clusters=18,random_state=0)\n",
    "azdias_km.fit(azdias_PCA_transformed)\n",
    "azdias_imputed_scaler['cluster'] = azdias_km.labels_"
   ]
  },
  {
   "cell_type": "code",
   "execution_count": 58,
   "metadata": {},
   "outputs": [
    {
     "data": {
      "image/png": "[encoded data removed]",
      "text/plain": [
       "<matplotlib.figure.Figure at 0x7f90246e8c18>"
      ]
     },
     "metadata": {
      "needs_background": "light"
     },
     "output_type": "display_data"
    }
   ],
   "source": [
    "# ax = sns.barplot(x=\"cluster\", y=\"cluster\", data=azdias_imputed_scaler, estimator=lambda x: len(x) / len(azdias_imputed_scaler) * 100,order=azdias_imputed_scaler['cluster'])\n",
    "# ax.set(ylabel=\"Percent\")\n",
    "ax = sns.barplot(x=\"cluster\", y=\"cluster\", data=customers_imputed_scaler, estimator=lambda x: len(x) / len(customers_imputed_scaler) * 100).set_title(\"Clustering Analysis for Cutomer Data\")"
   ]
  },
  {
   "cell_type": "code",
   "execution_count": 59,
   "metadata": {},
   "outputs": [
    {
     "data": {
      "image/png": "[encoded data removed]",
      "text/plain": [
       "<matplotlib.figure.Figure at 0x7f90246e8be0>"
      ]
     },
     "metadata": {
      "needs_background": "light"
     },
     "output_type": "display_data"
    }
   ],
   "source": [
    "ax = sns.barplot(x=\"cluster\", y=\"cluster\", data=azdias_imputed_scaler, estimator=lambda x: len(x) / len(azdias_imputed_scaler) * 100).set_title(\"Clustering Analysis for General Population Data\")"
   ]
  },
  {
   "cell_type": "code",
   "execution_count": 60,
   "metadata": {},
   "outputs": [
    {
     "data": {
      "text/plain": [
       "Ttest_indResult(statistic=-8.3787747417129499e-16, pvalue=0.99999999999999933)"
      ]
     },
     "execution_count": 60,
     "metadata": {},
     "output_type": "execute_result"
    }
   ],
   "source": [
    "# Compare the proportion of data in each cluster for the customer data to the\n",
    "# proportion of data in each cluster for the general population.\n",
    "a= azdias_imputed_scaler['cluster'].value_counts()/len(azdias_imputed_scaler)*100\n",
    "b=customers_imputed_scaler['cluster'].value_counts()/len(customers_imputed_scaler)*100\n",
    "# use unpaired t-test to compare if the proportion of data in each cluster for the customer data and \n",
    "# the proportion of data in each cluster for the general population are the same:\n",
    "# using an unpaired t-test, the p value is 0.79465692096714147, which means they're NOT significantly different at all.\n",
    "stats.ttest_ind(a,b)"
   ]
  },
  {
   "cell_type": "code",
   "execution_count": 61,
   "metadata": {},
   "outputs": [
    {
     "data": {
      "text/plain": [
       "ALTERSKATEGORIE_GROB              3.601819e+00\n",
       "ANREDE_KZ                         1.017354e+00\n",
       "FINANZ_MINIMALIST                 4.981064e+00\n",
       "FINANZ_SPARER                     1.206196e+00\n",
       "FINANZ_VORSORGER                  4.780649e+00\n",
       "FINANZ_ANLEGER                    1.190665e+00\n",
       "FINANZ_UNAUFFAELLIGER             1.752930e+00\n",
       "FINANZ_HAUSBAUER                  2.039706e+00\n",
       "GREEN_AVANTGARDE                  9.987348e-01\n",
       "HEALTH_TYP                        1.849225e+00\n",
       "LP_LEBENSPHASE_GROB               1.178647e+01\n",
       "RETOURTYP_BK_S                    4.120669e+00\n",
       "SEMIO_SOZ                         4.945045e+00\n",
       "SEMIO_FAM                         4.522833e+00\n",
       "SEMIO_REL                         3.631560e+00\n",
       "SEMIO_MAT                         3.819201e+00\n",
       "SEMIO_VERT                        6.348732e+00\n",
       "SEMIO_LUST                        5.755136e+00\n",
       "SEMIO_ERL                         4.055135e+00\n",
       "SEMIO_KULT                        4.837376e+00\n",
       "SEMIO_RAT                         2.506665e+00\n",
       "SEMIO_KRIT                        2.589750e+00\n",
       "SEMIO_DOM                         3.275914e+00\n",
       "SEMIO_KAEM                        2.418305e+00\n",
       "SEMIO_PFLICHT                     2.840426e+00\n",
       "SEMIO_TRADV                       3.037541e+00\n",
       "SOHO_KZ                           7.900345e-03\n",
       "VERS_TYP                          1.455984e+00\n",
       "ANZ_PERSONEN                      3.493327e+00\n",
       "ANZ_TITEL                        -4.738774e-03\n",
       "HH_EINKOMMEN_SCORE                2.078710e+00\n",
       "W_KEIT_KIND_HH                    3.245680e+00\n",
       "WOHNDAUER_2008                    8.932094e+00\n",
       "ANZ_HAUSHALTE_AKTIV               1.461680e+00\n",
       "ANZ_HH_TITEL                      6.687750e-03\n",
       "KONSUMNAEHE                       3.357285e+00\n",
       "MIN_GEBAEUDEJAHR                  1.992570e+03\n",
       "WOHNLAGE                          3.207483e+00\n",
       "CAMEO_INTL_2015                   2.370912e+01\n",
       "KBA05_ANTG1                       2.920967e+00\n",
       "KBA05_ANTG2                       1.110175e+00\n",
       "KBA05_ANTG3                       3.963317e-02\n",
       "KBA05_ANTG4                       6.481215e-03\n",
       "KBA05_GBZ                         4.070856e+00\n",
       "BALLRAUM                          4.282454e+00\n",
       "EWDICHTE                          3.958613e+00\n",
       "INNENSTADT                        4.798790e+00\n",
       "GEBAEUDETYP_RASTER                4.054965e+00\n",
       "MOBI_REGIO                        4.239026e+00\n",
       "ONLINE_AFFINITAET                 3.457609e+00\n",
       "KBA13_ANZAHL_PKW                  6.985907e+02\n",
       "PLZ8_ANTG1                        2.823148e+00\n",
       "PLZ8_ANTG2                        2.613775e+00\n",
       "PLZ8_ANTG3                        1.214680e+00\n",
       "PLZ8_ANTG4                        4.069050e-01\n",
       "PLZ8_BAUMAX                       1.183314e+00\n",
       "PLZ8_HHZ                          3.671997e+00\n",
       "PLZ8_GBZ                          3.854038e+00\n",
       "ARBEIT                            2.809553e+00\n",
       "ORTSGR_KLS9                       5.194345e+00\n",
       "RELAT_AB                          2.875797e+00\n",
       "CJT_GESAMTTYP_1.0                 1.412025e-01\n",
       "CJT_GESAMTTYP_2.0                 2.193370e-01\n",
       "CJT_GESAMTTYP_3.0                 2.701560e-01\n",
       "CJT_GESAMTTYP_4.0                 1.844501e-01\n",
       "CJT_GESAMTTYP_5.0                 1.357342e-01\n",
       "CJT_GESAMTTYP_6.0                 4.989179e-02\n",
       "CJT_GESAMTTYP_nan                -7.715866e-04\n",
       "FINANZTYP_1.0                    -7.022003e-04\n",
       "FINANZTYP_2.0                     2.750135e-01\n",
       "FINANZTYP_3.0                     1.128785e-02\n",
       "FINANZTYP_4.0                     6.218773e-04\n",
       "FINANZTYP_5.0                     4.778389e-01\n",
       "FINANZTYP_6.0                     2.359401e-01\n",
       "FINANZTYP_nan                     3.709598e-18\n",
       "GFK_URLAUBERTYP_1.0               6.820648e-02\n",
       "GFK_URLAUBERTYP_2.0               1.607894e-02\n",
       "GFK_URLAUBERTYP_3.0               8.647590e-02\n",
       "GFK_URLAUBERTYP_4.0               1.033719e-01\n",
       "GFK_URLAUBERTYP_5.0               1.468679e-01\n",
       "GFK_URLAUBERTYP_6.0               3.584067e-02\n",
       "GFK_URLAUBERTYP_7.0               1.022053e-01\n",
       "GFK_URLAUBERTYP_8.0               1.397779e-01\n",
       "GFK_URLAUBERTYP_9.0               3.130895e-02\n",
       "GFK_URLAUBERTYP_10.0              2.156034e-01\n",
       "GFK_URLAUBERTYP_11.0              5.086784e-02\n",
       "GFK_URLAUBERTYP_12.0              4.166315e-03\n",
       "GFK_URLAUBERTYP_nan              -7.715866e-04\n",
       "LP_FAMILIE_FEIN_1.0               2.953711e-04\n",
       "LP_FAMILIE_FEIN_2.0              -1.175540e-03\n",
       "LP_FAMILIE_FEIN_3.0              -2.232339e-05\n",
       "LP_FAMILIE_FEIN_4.0               8.825449e-06\n",
       "LP_FAMILIE_FEIN_5.0              -1.012930e-04\n",
       "LP_FAMILIE_FEIN_6.0               6.903010e-04\n",
       "LP_FAMILIE_FEIN_7.0              -1.706123e-05\n",
       "LP_FAMILIE_FEIN_8.0              -3.732797e-04\n",
       "LP_FAMILIE_FEIN_9.0               3.120032e-02\n",
       "LP_FAMILIE_FEIN_10.0              5.880607e-01\n",
       "LP_FAMILIE_FEIN_11.0              3.777351e-01\n",
       "LP_FAMILIE_FEIN_nan               3.698821e-03\n",
       "LP_FAMILIE_GROB_1.0               2.953711e-04\n",
       "LP_FAMILIE_GROB_2.0              -1.175540e-03\n",
       "LP_FAMILIE_GROB_3.0              -1.147910e-04\n",
       "LP_FAMILIE_GROB_4.0               2.999601e-04\n",
       "LP_FAMILIE_GROB_5.0               9.969962e-01\n",
       "LP_FAMILIE_GROB_nan               3.698821e-03\n",
       "LP_STATUS_FEIN_1.0                6.155489e-03\n",
       "LP_STATUS_FEIN_2.0                1.693645e-03\n",
       "LP_STATUS_FEIN_3.0                1.212002e-02\n",
       "LP_STATUS_FEIN_4.0                2.462888e-03\n",
       "LP_STATUS_FEIN_5.0                1.259565e-03\n",
       "LP_STATUS_FEIN_6.0                1.920410e-03\n",
       "LP_STATUS_FEIN_7.0               -2.456298e-04\n",
       "LP_STATUS_FEIN_8.0               -4.400727e-05\n",
       "LP_STATUS_FEIN_9.0                9.921843e-03\n",
       "LP_STATUS_FEIN_10.0               9.655274e-01\n",
       "LP_STATUS_FEIN_nan               -7.715866e-04\n",
       "LP_STATUS_GROB_1.0                7.849134e-03\n",
       "LP_STATUS_GROB_2.0                1.584248e-02\n",
       "LP_STATUS_GROB_3.0                1.674780e-03\n",
       "LP_STATUS_GROB_4.0                9.877836e-03\n",
       "LP_STATUS_GROB_5.0                9.655274e-01\n",
       "LP_STATUS_GROB_nan               -7.715866e-04\n",
       "NATIONALITAET_KZ_1.0              9.827203e-01\n",
       "NATIONALITAET_KZ_2.0              1.195848e-02\n",
       "NATIONALITAET_KZ_3.0              5.513586e-03\n",
       "NATIONALITAET_KZ_nan             -1.924018e-04\n",
       "SHOPPER_TYP_0.0                   2.929591e-01\n",
       "SHOPPER_TYP_1.0                   2.255214e-01\n",
       "SHOPPER_TYP_2.0                   1.059525e-01\n",
       "SHOPPER_TYP_3.0                   3.737842e-01\n",
       "SHOPPER_TYP_nan                   1.782928e-03\n",
       "ZABEOTYP_1.0                      7.103880e-01\n",
       "ZABEOTYP_2.0                      2.827828e-02\n",
       "ZABEOTYP_3.0                      2.138707e-01\n",
       "ZABEOTYP_4.0                      4.395004e-02\n",
       "ZABEOTYP_5.0                      6.867402e-04\n",
       "ZABEOTYP_6.0                      2.826233e-03\n",
       "ZABEOTYP_nan                      0.000000e+00\n",
       "GEBAEUDETYP_1.0                   8.509689e-01\n",
       "GEBAEUDETYP_2.0                  -8.909383e-04\n",
       "GEBAEUDETYP_3.0                   4.442780e-02\n",
       "GEBAEUDETYP_4.0                  -1.760131e-04\n",
       "GEBAEUDETYP_6.0                  -8.104724e-05\n",
       "GEBAEUDETYP_8.0                   1.057513e-01\n",
       "GEBAEUDETYP_nan                   0.000000e+00\n",
       "OST_WEST_KZ_O                     3.167446e-02\n",
       "OST_WEST_KZ_W                     9.683255e-01\n",
       "OST_WEST_KZ_nan                   0.000000e+00\n",
       "CAMEO_DEUG_2015_1                 1.888558e-01\n",
       "CAMEO_DEUG_2015_2                 2.614305e-01\n",
       "CAMEO_DEUG_2015_3                 1.322359e-01\n",
       "CAMEO_DEUG_2015_4                 1.735517e-01\n",
       "CAMEO_DEUG_2015_5                 5.833106e-02\n",
       "CAMEO_DEUG_2015_6                 1.016756e-01\n",
       "CAMEO_DEUG_2015_7                 3.905495e-02\n",
       "CAMEO_DEUG_2015_8                 3.488018e-02\n",
       "CAMEO_DEUG_2015_9                 8.770291e-03\n",
       "CAMEO_DEUG_2015_nan               1.214048e-03\n",
       "PRAEGENDE_JUGENDJAHRE_DECADE      5.711254e+01\n",
       "PRAEGENDE_JUGENDJAHRE_MOVEMENT    9.984361e-01\n",
       "dtype: float64"
      ]
     },
     "execution_count": 61,
     "metadata": {},
     "output_type": "execute_result"
    }
   ],
   "source": [
    "# What kinds of people are part of a cluster that is overrepresented in the\n",
    "# customer data compared to the general population?\n",
    "\n",
    "centroid_15=scaler.inverse_transform(customers_pca_80.inverse_transform(customers_km.cluster_centers_[15]))\n",
    "overrepresented_cluster = pd.Series(data = centroid_15, index = customers_clean.columns)\n",
    "\n",
    "centroid_3=scaler.inverse_transform(customers_pca_80.inverse_transform(customers_km.cluster_centers_[3]))\n",
    "underrepresented_cluster = pd.Series(data = centroid_3, index = customers_clean.columns)\n",
    "\n",
    "pd.options.display.max_rows = 200\n",
    "overrepresented_cluster"
   ]
  },
  {
   "cell_type": "code",
   "execution_count": 62,
   "metadata": {},
   "outputs": [
    {
     "data": {
      "text/plain": [
       "ALTERSKATEGORIE_GROB              2.119458e+00\n",
       "ANREDE_KZ                         1.554322e+00\n",
       "FINANZ_MINIMALIST                 1.620689e+00\n",
       "FINANZ_SPARER                     4.436010e+00\n",
       "FINANZ_VORSORGER                  1.532934e+00\n",
       "FINANZ_ANLEGER                    3.420737e+00\n",
       "FINANZ_UNAUFFAELLIGER             4.492286e+00\n",
       "FINANZ_HAUSBAUER                  3.331977e+00\n",
       "GREEN_AVANTGARDE                  2.326751e-01\n",
       "HEALTH_TYP                        2.311597e+00\n",
       "LP_LEBENSPHASE_GROB               3.690960e+00\n",
       "RETOURTYP_BK_S                    2.546079e+00\n",
       "SEMIO_SOZ                         3.584949e+00\n",
       "SEMIO_FAM                         4.810669e+00\n",
       "SEMIO_REL                         4.851253e+00\n",
       "SEMIO_MAT                         5.005100e+00\n",
       "SEMIO_VERT                        3.932088e+00\n",
       "SEMIO_LUST                        4.250584e+00\n",
       "SEMIO_ERL                         3.769264e+00\n",
       "SEMIO_KULT                        4.552774e+00\n",
       "SEMIO_RAT                         4.670633e+00\n",
       "SEMIO_KRIT                        4.446887e+00\n",
       "SEMIO_DOM                         4.876229e+00\n",
       "SEMIO_KAEM                        4.377806e+00\n",
       "SEMIO_PFLICHT                     5.175099e+00\n",
       "SEMIO_TRADV                       5.139780e+00\n",
       "SOHO_KZ                           1.136664e-02\n",
       "VERS_TYP                          1.790078e+00\n",
       "ANZ_PERSONEN                      1.468465e+00\n",
       "ANZ_TITEL                         6.423310e-02\n",
       "HH_EINKOMMEN_SCORE                5.033288e+00\n",
       "W_KEIT_KIND_HH                    4.160954e+00\n",
       "WOHNDAUER_2008                    6.514407e+00\n",
       "ANZ_HAUSHALTE_AKTIV               8.669827e+00\n",
       "ANZ_HH_TITEL                      2.685269e-03\n",
       "KONSUMNAEHE                       2.886920e+00\n",
       "MIN_GEBAEUDEJAHR                  1.992522e+03\n",
       "WOHNLAGE                          4.218578e+00\n",
       "CAMEO_INTL_2015                   4.093767e+01\n",
       "KBA05_ANTG1                       8.058527e-01\n",
       "KBA05_ANTG2                       1.391657e+00\n",
       "KBA05_ANTG3                       8.798138e-01\n",
       "KBA05_ANTG4                       5.170817e-01\n",
       "KBA05_GBZ                         2.446591e+00\n",
       "BALLRAUM                          3.844028e+00\n",
       "EWDICHTE                          4.823365e+00\n",
       "INNENSTADT                        3.491227e+00\n",
       "GEBAEUDETYP_RASTER                3.520934e+00\n",
       "MOBI_REGIO                        2.283840e+00\n",
       "ONLINE_AFFINITAET                 3.445531e+00\n",
       "KBA13_ANZAHL_PKW                  5.579550e+02\n",
       "PLZ8_ANTG1                        1.811101e+00\n",
       "PLZ8_ANTG2                        3.029289e+00\n",
       "PLZ8_ANTG3                        2.036252e+00\n",
       "PLZ8_ANTG4                        1.077325e+00\n",
       "PLZ8_BAUMAX                       2.857665e+00\n",
       "PLZ8_HHZ                          3.776287e+00\n",
       "PLZ8_GBZ                          2.995844e+00\n",
       "ARBEIT                            3.188858e+00\n",
       "ORTSGR_KLS9                       6.202565e+00\n",
       "RELAT_AB                          3.297624e+00\n",
       "CJT_GESAMTTYP_1.0                 7.733393e-02\n",
       "CJT_GESAMTTYP_2.0                 7.269564e-02\n",
       "CJT_GESAMTTYP_3.0                 2.239583e-01\n",
       "CJT_GESAMTTYP_4.0                 3.556115e-01\n",
       "CJT_GESAMTTYP_5.0                 1.505964e-01\n",
       "CJT_GESAMTTYP_6.0                 1.097976e-01\n",
       "CJT_GESAMTTYP_nan                 1.000667e-02\n",
       "FINANZTYP_1.0                     7.677681e-01\n",
       "FINANZTYP_2.0                    -2.692763e-02\n",
       "FINANZTYP_3.0                    -1.068888e-01\n",
       "FINANZTYP_4.0                     2.451731e-01\n",
       "FINANZTYP_5.0                     1.225667e-01\n",
       "FINANZTYP_6.0                    -1.691477e-03\n",
       "FINANZTYP_nan                     2.796927e-16\n",
       "GFK_URLAUBERTYP_1.0               5.876463e-02\n",
       "GFK_URLAUBERTYP_2.0               1.436245e-01\n",
       "GFK_URLAUBERTYP_3.0               3.370208e-02\n",
       "GFK_URLAUBERTYP_4.0               3.649423e-02\n",
       "GFK_URLAUBERTYP_5.0               4.712771e-02\n",
       "GFK_URLAUBERTYP_6.0              -9.661165e-03\n",
       "GFK_URLAUBERTYP_7.0              -1.378236e-02\n",
       "GFK_URLAUBERTYP_8.0               7.554794e-02\n",
       "GFK_URLAUBERTYP_9.0               1.157662e-01\n",
       "GFK_URLAUBERTYP_10.0              1.618408e-01\n",
       "GFK_URLAUBERTYP_11.0              1.280911e-01\n",
       "GFK_URLAUBERTYP_12.0              2.124777e-01\n",
       "GFK_URLAUBERTYP_nan               1.000667e-02\n",
       "LP_FAMILIE_FEIN_1.0               5.935662e-01\n",
       "LP_FAMILIE_FEIN_2.0               1.383458e-01\n",
       "LP_FAMILIE_FEIN_3.0               3.915549e-03\n",
       "LP_FAMILIE_FEIN_4.0               1.007720e-03\n",
       "LP_FAMILIE_FEIN_5.0               2.183565e-03\n",
       "LP_FAMILIE_FEIN_6.0              -4.805705e-03\n",
       "LP_FAMILIE_FEIN_7.0               4.714852e-03\n",
       "LP_FAMILIE_FEIN_8.0               3.526872e-03\n",
       "LP_FAMILIE_FEIN_9.0               3.075981e-02\n",
       "LP_FAMILIE_FEIN_10.0              1.490400e-01\n",
       "LP_FAMILIE_FEIN_11.0              1.420856e-02\n",
       "LP_FAMILIE_FEIN_nan               6.353677e-02\n",
       "LP_FAMILIE_GROB_1.0               5.935662e-01\n",
       "LP_FAMILIE_GROB_2.0               1.383458e-01\n",
       "LP_FAMILIE_GROB_3.0               7.106833e-03\n",
       "LP_FAMILIE_GROB_4.0               3.436019e-03\n",
       "LP_FAMILIE_GROB_5.0               1.940084e-01\n",
       "LP_FAMILIE_GROB_nan               6.353677e-02\n",
       "LP_STATUS_FEIN_1.0                3.677980e-01\n",
       "LP_STATUS_FEIN_2.0                2.279328e-01\n",
       "LP_STATUS_FEIN_3.0                1.527120e-01\n",
       "LP_STATUS_FEIN_4.0                1.113612e-01\n",
       "LP_STATUS_FEIN_5.0               -2.949634e-02\n",
       "LP_STATUS_FEIN_6.0                2.539744e-02\n",
       "LP_STATUS_FEIN_7.0               -2.963350e-02\n",
       "LP_STATUS_FEIN_8.0               -1.499939e-02\n",
       "LP_STATUS_FEIN_9.0                1.417117e-01\n",
       "LP_STATUS_FEIN_10.0               3.720937e-02\n",
       "LP_STATUS_FEIN_nan                1.000667e-02\n",
       "LP_STATUS_GROB_1.0                5.957308e-01\n",
       "LP_STATUS_GROB_2.0                2.345769e-01\n",
       "LP_STATUS_GROB_3.0               -4.236054e-03\n",
       "LP_STATUS_GROB_4.0                1.267123e-01\n",
       "LP_STATUS_GROB_5.0                3.720937e-02\n",
       "LP_STATUS_GROB_nan                1.000667e-02\n",
       "NATIONALITAET_KZ_1.0              8.463585e-01\n",
       "NATIONALITAET_KZ_2.0              8.605446e-02\n",
       "NATIONALITAET_KZ_3.0              6.117230e-02\n",
       "NATIONALITAET_KZ_nan              6.414715e-03\n",
       "SHOPPER_TYP_0.0                   2.288810e-01\n",
       "SHOPPER_TYP_1.0                   3.138555e-01\n",
       "SHOPPER_TYP_2.0                   2.280444e-01\n",
       "SHOPPER_TYP_3.0                   2.238852e-01\n",
       "SHOPPER_TYP_nan                   5.333832e-03\n",
       "ZABEOTYP_1.0                      5.834476e-02\n",
       "ZABEOTYP_2.0                      5.230595e-03\n",
       "ZABEOTYP_3.0                      1.691979e-01\n",
       "ZABEOTYP_4.0                     -1.372824e-01\n",
       "ZABEOTYP_5.0                      9.233381e-01\n",
       "ZABEOTYP_6.0                     -1.882890e-02\n",
       "ZABEOTYP_nan                      0.000000e+00\n",
       "GEBAEUDETYP_1.0                   3.850689e-01\n",
       "GEBAEUDETYP_2.0                   1.385472e-02\n",
       "GEBAEUDETYP_3.0                   4.120216e-01\n",
       "GEBAEUDETYP_4.0                   3.948162e-03\n",
       "GEBAEUDETYP_6.0                   1.464100e-03\n",
       "GEBAEUDETYP_8.0                   1.836425e-01\n",
       "GEBAEUDETYP_nan                   0.000000e+00\n",
       "OST_WEST_KZ_O                     2.328312e-01\n",
       "OST_WEST_KZ_W                     7.671688e-01\n",
       "OST_WEST_KZ_nan                   0.000000e+00\n",
       "CAMEO_DEUG_2015_1                 7.442967e-03\n",
       "CAMEO_DEUG_2015_2                 3.468281e-02\n",
       "CAMEO_DEUG_2015_3                 6.338094e-02\n",
       "CAMEO_DEUG_2015_4                 6.828253e-02\n",
       "CAMEO_DEUG_2015_5                 9.143285e-02\n",
       "CAMEO_DEUG_2015_6                 1.437484e-01\n",
       "CAMEO_DEUG_2015_7                 1.491368e-01\n",
       "CAMEO_DEUG_2015_8                 2.179187e-01\n",
       "CAMEO_DEUG_2015_9                 2.190064e-01\n",
       "CAMEO_DEUG_2015_nan               4.967593e-03\n",
       "PRAEGENDE_JUGENDJAHRE_DECADE      9.341370e+01\n",
       "PRAEGENDE_JUGENDJAHRE_MOVEMENT    2.321877e-01\n",
       "dtype: float64"
      ]
     },
     "execution_count": 62,
     "metadata": {},
     "output_type": "execute_result"
    }
   ],
   "source": [
    "# What kinds of people are part of a cluster that is underrepresented in the\n",
    "# customer data compared to the general population?\n",
    "underrepresented_cluster"
   ]
  },
  {
   "cell_type": "markdown",
   "metadata": {},
   "source": [
    "#What kinds of people are part of a cluster that is overrepresented/underrepresented in the customer data compared to the  general population? <br>\n",
    "<br>\n",
    "Cluster 15 is overrepresented in the customer data with characteristics like:\n",
    "(1) high-income earners of higher age from multiperson households (LP_LEBENSPHASE_GROB = 11.79)\n",
    "(2) very high income (HH_EINKOMMEN_SCORE = 2.08)\n",
    "(3) Dominating movement of person's youth decade: 60th (PRAEGENDE_JUGENDJAHRE_DECADE = 57.11)\n",
    "(4) Number of households in the building: 1.46 (ANZ_HAUSHALTE_AKTIV = 1.46) \n",
    "(5) high share of 1-2 family homes (KBA05_ANTG1 = 2.92) \n",
    "(6) Movement patterns: low movement (MOBI_REGIO = 4.24),\n",
    "etc. \n",
    "\n",
    "Cluster 3 is underrepresented in the customer data with characteristics like:\n",
    "(1) single low-income and average-earner couples (LP_LEBENSPHASE_GROB= 3.69)\n",
    "(2) lower income (HH_EINKOMMEN_SCORE = 5.03)\n",
    "(3) Dominating movement of person's youth decade: 90th (PRAEGENDE_JUGENDJAHRE_DECADE = 93.41)\n",
    "(4) Number of households in the building: 8.67 (ANZ_HAUSHALTE_AKTIV = 8.67) \n",
    "(5) lower share of 1-2 family homes (KBA05_ANTG1 = 0.81)\n",
    "(6) Movement patterns: high movement (MOBI_REGIO = 2.28),\n",
    "etc. "
   ]
  },
  {
   "cell_type": "markdown",
   "metadata": {},
   "source": [
    "### Discussion 3.3: Compare Customer Data to Demographics Data\n",
    "\n",
    "(Double-click this cell and replace this text with your own text, reporting findings and conclusions from the clustering analysis. Can we describe segments of the population that are relatively popular with the mail-order company, or relatively unpopular with the company?)"
   ]
  },
  {
   "cell_type": "markdown",
   "metadata": {},
   "source": [
    "> Congratulations on making it this far in the project! Before you finish, make sure to check through the entire notebook from top to bottom to make sure that your analysis follows a logical flow and all of your findings are documented in **Discussion** cells. Once you've checked over all of your work, you should export the notebook as an HTML document to submit for evaluation. You can do this from the menu, navigating to **File -> Download as -> HTML (.html)**. You will submit both that document and this notebook for your project submission."
   ]
  },
  {
   "cell_type": "code",
   "execution_count": null,
   "metadata": {},
   "outputs": [],
   "source": []
  }
 ],
 "metadata": {
  "kernelspec": {
   "display_name": "Python 3",
   "language": "python",
   "name": "python3"
  },
  "language_info": {
   "codemirror_mode": {
    "name": "ipython",
    "version": 3
   },
   "file_extension": ".py",
   "mimetype": "text/x-python",
   "name": "python",
   "nbconvert_exporter": "python",
   "pygments_lexer": "ipython3",
   "version": "3.6.3"
  }
 },
 "nbformat": 4,
 "nbformat_minor": 2
}
